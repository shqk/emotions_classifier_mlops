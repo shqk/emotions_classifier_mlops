{
  "cells": [
    {
      "metadata": {
        "id": "97b1d3a72249ae73"
      },
      "cell_type": "markdown",
      "source": [
        "# Emotions Classifier using BERT"
      ],
      "id": "97b1d3a72249ae73"
    },
    {
      "metadata": {
        "id": "cdcd9643d011b509"
      },
      "cell_type": "markdown",
      "source": [
        "* Authors: Nathan DANIS & Romain CAUSSIGNAC\n",
        "* Class: I2 - BDML 1"
      ],
      "id": "cdcd9643d011b509"
    },
    {
      "metadata": {
        "id": "54d7331a981ed1a2"
      },
      "cell_type": "markdown",
      "source": [
        "### Vérification de l'environnement d'exécution Colab"
      ],
      "id": "54d7331a981ed1a2"
    },
    {
      "cell_type": "code",
      "id": "initial_id",
      "metadata": {
        "collapsed": true,
        "ExecuteTime": {
          "end_time": "2025-05-28T17:37:26.537047Z",
          "start_time": "2025-05-28T17:37:26.532765Z"
        },
        "colab": {
          "base_uri": "https://localhost:8080/"
        },
        "id": "initial_id",
        "outputId": "8c0538a9-5922-471f-b2ea-f9286ba0cdf4"
      },
      "source": [
        "gpu_info = !nvidia-smi\n",
        "gpu_info = '\\n'.join(gpu_info)\n",
        "if gpu_info.find('failed') >= 0:\n",
        "  print('Not connected to a GPU')\n",
        "else:\n",
        "  print(gpu_info)"
      ],
      "outputs": [
        {
          "output_type": "stream",
          "name": "stdout",
          "text": [
            "Sun Jun  8 16:47:55 2025       \n",
            "+-----------------------------------------------------------------------------------------+\n",
            "| NVIDIA-SMI 550.54.15              Driver Version: 550.54.15      CUDA Version: 12.4     |\n",
            "|-----------------------------------------+------------------------+----------------------+\n",
            "| GPU  Name                 Persistence-M | Bus-Id          Disp.A | Volatile Uncorr. ECC |\n",
            "| Fan  Temp   Perf          Pwr:Usage/Cap |           Memory-Usage | GPU-Util  Compute M. |\n",
            "|                                         |                        |               MIG M. |\n",
            "|=========================================+========================+======================|\n",
            "|   0  NVIDIA A100-SXM4-40GB          Off |   00000000:00:04.0 Off |                    0 |\n",
            "| N/A   36C    P0             66W /  400W |       0MiB /  40960MiB |      0%      Default |\n",
            "|                                         |                        |             Disabled |\n",
            "+-----------------------------------------+------------------------+----------------------+\n",
            "                                                                                         \n",
            "+-----------------------------------------------------------------------------------------+\n",
            "| Processes:                                                                              |\n",
            "|  GPU   GI   CI        PID   Type   Process name                              GPU Memory |\n",
            "|        ID   ID                                                               Usage      |\n",
            "|=========================================================================================|\n",
            "|  No running processes found                                                             |\n",
            "+-----------------------------------------------------------------------------------------+\n"
          ]
        }
      ],
      "execution_count": null
    },
    {
      "metadata": {
        "ExecuteTime": {
          "end_time": "2025-05-28T17:37:26.563155Z",
          "start_time": "2025-05-28T17:37:26.561412Z"
        },
        "colab": {
          "base_uri": "https://localhost:8080/"
        },
        "id": "7965bb39b2cacbaa",
        "outputId": "b316a88c-70bd-40e1-808b-d43063be937a"
      },
      "cell_type": "code",
      "source": [
        "from psutil import virtual_memory\n",
        "ram_gb = virtual_memory().total / 1e9\n",
        "print('The runtime has {:.1f} GB of available RAM\\n'.format(ram_gb))"
      ],
      "id": "7965bb39b2cacbaa",
      "outputs": [
        {
          "output_type": "stream",
          "name": "stdout",
          "text": [
            "The runtime has 89.6 GB of available RAM\n",
            "\n"
          ]
        }
      ],
      "execution_count": null
    },
    {
      "metadata": {
        "ExecuteTime": {
          "end_time": "2025-05-28T17:37:26.568544Z",
          "start_time": "2025-05-28T17:37:26.566712Z"
        },
        "colab": {
          "base_uri": "https://localhost:8080/"
        },
        "id": "3706edae3ae195fd",
        "outputId": "63df8bf5-3db3-4b1e-e5c6-bb28fa8405ab"
      },
      "cell_type": "code",
      "source": [
        "!pip install -U datasets"
      ],
      "id": "3706edae3ae195fd",
      "outputs": [
        {
          "output_type": "stream",
          "name": "stdout",
          "text": [
            "Requirement already satisfied: datasets in /usr/local/lib/python3.11/dist-packages (3.6.0)\n",
            "Requirement already satisfied: filelock in /usr/local/lib/python3.11/dist-packages (from datasets) (3.18.0)\n",
            "Requirement already satisfied: numpy>=1.17 in /usr/local/lib/python3.11/dist-packages (from datasets) (2.0.2)\n",
            "Requirement already satisfied: pyarrow>=15.0.0 in /usr/local/lib/python3.11/dist-packages (from datasets) (18.1.0)\n",
            "Requirement already satisfied: dill<0.3.9,>=0.3.0 in /usr/local/lib/python3.11/dist-packages (from datasets) (0.3.7)\n",
            "Requirement already satisfied: pandas in /usr/local/lib/python3.11/dist-packages (from datasets) (2.2.2)\n",
            "Requirement already satisfied: requests>=2.32.2 in /usr/local/lib/python3.11/dist-packages (from datasets) (2.32.3)\n",
            "Requirement already satisfied: tqdm>=4.66.3 in /usr/local/lib/python3.11/dist-packages (from datasets) (4.67.1)\n",
            "Requirement already satisfied: xxhash in /usr/local/lib/python3.11/dist-packages (from datasets) (3.5.0)\n",
            "Requirement already satisfied: multiprocess<0.70.17 in /usr/local/lib/python3.11/dist-packages (from datasets) (0.70.15)\n",
            "Requirement already satisfied: fsspec<=2025.3.0,>=2023.1.0 in /usr/local/lib/python3.11/dist-packages (from fsspec[http]<=2025.3.0,>=2023.1.0->datasets) (2025.3.0)\n",
            "Requirement already satisfied: huggingface-hub>=0.24.0 in /usr/local/lib/python3.11/dist-packages (from datasets) (0.32.4)\n",
            "Requirement already satisfied: packaging in /usr/local/lib/python3.11/dist-packages (from datasets) (24.2)\n",
            "Requirement already satisfied: pyyaml>=5.1 in /usr/local/lib/python3.11/dist-packages (from datasets) (6.0.2)\n",
            "Requirement already satisfied: aiohttp!=4.0.0a0,!=4.0.0a1 in /usr/local/lib/python3.11/dist-packages (from fsspec[http]<=2025.3.0,>=2023.1.0->datasets) (3.11.15)\n",
            "Requirement already satisfied: typing-extensions>=3.7.4.3 in /usr/local/lib/python3.11/dist-packages (from huggingface-hub>=0.24.0->datasets) (4.14.0)\n",
            "Requirement already satisfied: hf-xet<2.0.0,>=1.1.2 in /usr/local/lib/python3.11/dist-packages (from huggingface-hub>=0.24.0->datasets) (1.1.2)\n",
            "Requirement already satisfied: charset-normalizer<4,>=2 in /usr/local/lib/python3.11/dist-packages (from requests>=2.32.2->datasets) (3.4.2)\n",
            "Requirement already satisfied: idna<4,>=2.5 in /usr/local/lib/python3.11/dist-packages (from requests>=2.32.2->datasets) (3.10)\n",
            "Requirement already satisfied: urllib3<3,>=1.21.1 in /usr/local/lib/python3.11/dist-packages (from requests>=2.32.2->datasets) (2.4.0)\n",
            "Requirement already satisfied: certifi>=2017.4.17 in /usr/local/lib/python3.11/dist-packages (from requests>=2.32.2->datasets) (2025.4.26)\n",
            "Requirement already satisfied: python-dateutil>=2.8.2 in /usr/local/lib/python3.11/dist-packages (from pandas->datasets) (2.9.0.post0)\n",
            "Requirement already satisfied: pytz>=2020.1 in /usr/local/lib/python3.11/dist-packages (from pandas->datasets) (2025.2)\n",
            "Requirement already satisfied: tzdata>=2022.7 in /usr/local/lib/python3.11/dist-packages (from pandas->datasets) (2025.2)\n",
            "Requirement already satisfied: aiohappyeyeballs>=2.3.0 in /usr/local/lib/python3.11/dist-packages (from aiohttp!=4.0.0a0,!=4.0.0a1->fsspec[http]<=2025.3.0,>=2023.1.0->datasets) (2.6.1)\n",
            "Requirement already satisfied: aiosignal>=1.1.2 in /usr/local/lib/python3.11/dist-packages (from aiohttp!=4.0.0a0,!=4.0.0a1->fsspec[http]<=2025.3.0,>=2023.1.0->datasets) (1.3.2)\n",
            "Requirement already satisfied: attrs>=17.3.0 in /usr/local/lib/python3.11/dist-packages (from aiohttp!=4.0.0a0,!=4.0.0a1->fsspec[http]<=2025.3.0,>=2023.1.0->datasets) (25.3.0)\n",
            "Requirement already satisfied: frozenlist>=1.1.1 in /usr/local/lib/python3.11/dist-packages (from aiohttp!=4.0.0a0,!=4.0.0a1->fsspec[http]<=2025.3.0,>=2023.1.0->datasets) (1.6.0)\n",
            "Requirement already satisfied: multidict<7.0,>=4.5 in /usr/local/lib/python3.11/dist-packages (from aiohttp!=4.0.0a0,!=4.0.0a1->fsspec[http]<=2025.3.0,>=2023.1.0->datasets) (6.4.4)\n",
            "Requirement already satisfied: propcache>=0.2.0 in /usr/local/lib/python3.11/dist-packages (from aiohttp!=4.0.0a0,!=4.0.0a1->fsspec[http]<=2025.3.0,>=2023.1.0->datasets) (0.3.1)\n",
            "Requirement already satisfied: yarl<2.0,>=1.17.0 in /usr/local/lib/python3.11/dist-packages (from aiohttp!=4.0.0a0,!=4.0.0a1->fsspec[http]<=2025.3.0,>=2023.1.0->datasets) (1.20.0)\n",
            "Requirement already satisfied: six>=1.5 in /usr/local/lib/python3.11/dist-packages (from python-dateutil>=2.8.2->pandas->datasets) (1.17.0)\n"
          ]
        }
      ],
      "execution_count": null
    },
    {
      "metadata": {
        "id": "e1bb88d40ae8db7e"
      },
      "cell_type": "code",
      "outputs": [],
      "execution_count": null,
      "source": [
        "# import os\n",
        "# os.environ[\"WANDB_DISABLED\"] = \"true\""
      ],
      "id": "e1bb88d40ae8db7e"
    },
    {
      "metadata": {
        "ExecuteTime": {
          "end_time": "2025-05-28T17:37:26.581688Z",
          "start_time": "2025-05-28T17:37:26.579729Z"
        },
        "id": "ada2e9340cba4dc"
      },
      "cell_type": "code",
      "source": [
        "import pandas as pd\n",
        "import numpy as np\n",
        "import matplotlib.pyplot as plt\n",
        "import seaborn as sns\n",
        "from datasets import load_dataset\n",
        "import tqdm as notebook_tqdm"
      ],
      "id": "ada2e9340cba4dc",
      "outputs": [],
      "execution_count": null
    },
    {
      "metadata": {
        "id": "6f870386aa2b31ea"
      },
      "cell_type": "markdown",
      "source": [
        "### Chargement du Dataset GoEmotions"
      ],
      "id": "6f870386aa2b31ea"
    },
    {
      "metadata": {
        "ExecuteTime": {
          "end_time": "2025-05-28T17:37:26.593550Z",
          "start_time": "2025-05-28T17:37:26.591540Z"
        },
        "id": "4580d67a1c179ac6"
      },
      "cell_type": "code",
      "source": [
        "def load_goemotions_dataset():\n",
        "    try:\n",
        "        dataset = load_dataset(\"google-research-datasets/go_emotions\", \"raw\")\n",
        "        df = dataset['train'].to_pandas()\n",
        "        return df\n",
        "    except Exception as e:\n",
        "        print(f\"❌ Erreur lors du chargement: {e}\")\n",
        "        return None"
      ],
      "id": "4580d67a1c179ac6",
      "outputs": [],
      "execution_count": null
    },
    {
      "metadata": {
        "ExecuteTime": {
          "end_time": "2025-05-28T17:37:28.425037Z",
          "start_time": "2025-05-28T17:37:26.602995Z"
        },
        "id": "eb8b71fd952e8316"
      },
      "cell_type": "code",
      "source": [
        "df = load_goemotions_dataset()"
      ],
      "id": "eb8b71fd952e8316",
      "outputs": [],
      "execution_count": null
    },
    {
      "metadata": {
        "id": "e0b3bbc7536262db"
      },
      "cell_type": "markdown",
      "source": [
        "## Nettoyage du Dataset"
      ],
      "id": "e0b3bbc7536262db"
    },
    {
      "metadata": {
        "ExecuteTime": {
          "end_time": "2025-05-28T17:37:28.436337Z",
          "start_time": "2025-05-28T17:37:28.434741Z"
        },
        "colab": {
          "base_uri": "https://localhost:8080/"
        },
        "id": "d966cee5e09cf101",
        "outputId": "bf770487-080e-495f-cd47-14392427a2c2"
      },
      "cell_type": "code",
      "source": [
        "!pip install emoji"
      ],
      "id": "d966cee5e09cf101",
      "outputs": [
        {
          "output_type": "stream",
          "name": "stdout",
          "text": [
            "Requirement already satisfied: emoji in /usr/local/lib/python3.11/dist-packages (2.14.1)\n"
          ]
        }
      ],
      "execution_count": null
    },
    {
      "metadata": {
        "ExecuteTime": {
          "end_time": "2025-05-28T17:37:28.447651Z",
          "start_time": "2025-05-28T17:37:28.446054Z"
        },
        "id": "1f4755080d9a604d"
      },
      "cell_type": "code",
      "source": [
        "import re\n",
        "import emoji"
      ],
      "id": "1f4755080d9a604d",
      "outputs": [],
      "execution_count": null
    },
    {
      "metadata": {
        "ExecuteTime": {
          "end_time": "2025-05-28T17:37:28.462267Z",
          "start_time": "2025-05-28T17:37:28.456968Z"
        },
        "id": "b136a796bc71303a"
      },
      "cell_type": "code",
      "source": [
        "EMOJIS = sorted(emoji.EMOJI_DATA, key=len, reverse=True)\n",
        "EMOJI_PATTERN = re.compile('|'.join(re.escape(u) for u in EMOJIS))\n",
        "MULTI_EMOJI_PATTERN = re.compile(r\"({})\\1+\".format(EMOJI_PATTERN.pattern))\n",
        "REPEATED_CHAR_PATTERN = re.compile(r'(.)\\1{2,}')\n",
        "\n",
        "emoticon_dict = {\n",
        "    ':)': '<smile_face>',\n",
        "    ':-)': '<smile_face>',\n",
        "    ':(': '<sad_face>',\n",
        "    ':-(': '<sad_face>',\n",
        "    ':D': '<big_smile>',\n",
        "    ';)': '<wink>',\n",
        "    ':-P': '<tongue_out>',\n",
        "    ':/': '<unsure_face>',\n",
        "    '<3': '<heart>',\n",
        "    '¯_(ツ)_/¯': '<shrug>',\n",
        "}"
      ],
      "id": "b136a796bc71303a",
      "outputs": [],
      "execution_count": null
    },
    {
      "metadata": {
        "ExecuteTime": {
          "end_time": "2025-05-28T17:37:28.475064Z",
          "start_time": "2025-05-28T17:37:28.471773Z"
        },
        "id": "70a26afa11e98144"
      },
      "cell_type": "code",
      "source": [
        "def majority_vote(x):\n",
        "    return (x.sum() >= len(x) / 2).astype(int)\n",
        "\n",
        "def aggregate_rows(df, aggregation_function, emotions):\n",
        "    aggregations = {col: aggregation_function for col in emotions}\n",
        "    df_processed = df.groupby(['text']).agg(aggregations).reset_index()\n",
        "    mask = df_processed[emotions].sum(axis=1) > 0\n",
        "    return df_processed[mask].reset_index(drop=True)\n",
        "\n",
        "def preprocess_text(text):\n",
        "    # Replace sequences of the same emoji with a single emoji\n",
        "    text = MULTI_EMOJI_PATTERN.sub(r\"\\1\", text)\n",
        "\n",
        "    # Limit repeated characters to three repetitions\n",
        "    text = REPEATED_CHAR_PATTERN.sub(r'\\1\\1\\1', text)\n",
        "\n",
        "    # Replace user mentions with a special token\n",
        "    text = re.sub(r'u/\\w+', '<user>', text)\n",
        "\n",
        "    # Replace prices\n",
        "    text = re.sub(r'\\$\\d{1,3}(,\\d{3})*(\\.\\d+)?', '<PRICE>', text)\n",
        "\n",
        "    # Replace times\n",
        "    text = re.sub(r'\\b\\d{1,2}:\\d{2}(:\\d{2})?\\b', '<TIME>', text)\n",
        "\n",
        "    # Replace numbers except 1 or 2 digit integers\n",
        "    text = re.sub(r'\\d{1,3}(,\\d{3})*(\\.\\d+)?|\\d+(\\.\\d+)?',\n",
        "                  lambda m: '<NUM>' if len(m.group(0))>2 else m.group(0), text)\n",
        "\n",
        "    for emoticon, name in emoticon_dict.items():\n",
        "        text = text.replace(emoticon, name)\n",
        "\n",
        "    # Remove extra whitespace\n",
        "    text = re.sub(r'\\s+', ' ', text).strip()\n",
        "\n",
        "    return text"
      ],
      "id": "70a26afa11e98144",
      "outputs": [],
      "execution_count": null
    },
    {
      "metadata": {
        "ExecuteTime": {
          "end_time": "2025-05-28T17:37:28.486772Z",
          "start_time": "2025-05-28T17:37:28.484388Z"
        },
        "id": "64f3f10fbcd150b3"
      },
      "cell_type": "code",
      "source": [
        "text_col = 'text'\n",
        "emotion_cols = ['admiration', 'amusement', 'anger', 'annoyance', 'approval', 'caring',\n",
        "                'confusion', 'curiosity', 'desire', 'disappointment', 'disapproval',\n",
        "                'disgust', 'embarrassment', 'excitement', 'fear', 'gratitude', 'grief',\n",
        "                'joy', 'love', 'nervousness', 'optimism', 'pride', 'realization',\n",
        "                'relief', 'remorse', 'sadness', 'surprise', 'neutral']\n",
        "\n",
        "emotion_cols_no_neutral = ['admiration', 'amusement', 'anger', 'annoyance', 'approval', 'caring',\n",
        "                'confusion', 'curiosity', 'desire', 'disappointment', 'disapproval',\n",
        "                'disgust', 'embarrassment', 'excitement', 'fear', 'gratitude', 'grief',\n",
        "                'joy', 'love', 'nervousness', 'optimism', 'pride', 'realization',\n",
        "                'relief', 'remorse', 'sadness', 'surprise']"
      ],
      "id": "64f3f10fbcd150b3",
      "outputs": [],
      "execution_count": null
    },
    {
      "metadata": {
        "ExecuteTime": {
          "end_time": "2025-05-28T17:37:28.498789Z",
          "start_time": "2025-05-28T17:37:28.496846Z"
        },
        "colab": {
          "base_uri": "https://localhost:8080/"
        },
        "id": "a9561539ceabb076",
        "outputId": "8baef359-feec-4b73-eede-fabd68a7dca6"
      },
      "cell_type": "code",
      "source": [
        "print(len(df))"
      ],
      "id": "a9561539ceabb076",
      "outputs": [
        {
          "output_type": "stream",
          "name": "stdout",
          "text": [
            "211225\n"
          ]
        }
      ],
      "execution_count": null
    },
    {
      "metadata": {
        "id": "eb5fe6b2aa8dc303"
      },
      "cell_type": "markdown",
      "source": [
        "### Supression des lignes avec l'émotion neutre uniquement"
      ],
      "id": "eb5fe6b2aa8dc303"
    },
    {
      "metadata": {
        "ExecuteTime": {
          "end_time": "2025-05-28T17:37:28.534581Z",
          "start_time": "2025-05-28T17:37:28.510434Z"
        },
        "colab": {
          "base_uri": "https://localhost:8080/"
        },
        "id": "a0443f3b2ed45782",
        "outputId": "168e2e00-70ae-4f48-9e02-2300e906af9f"
      },
      "cell_type": "code",
      "source": [
        "mask = df['neutral'] == 0\n",
        "df = df[mask].copy()\n",
        "print(len(df))"
      ],
      "id": "a0443f3b2ed45782",
      "outputs": [
        {
          "output_type": "stream",
          "name": "stdout",
          "text": [
            "155927\n"
          ]
        }
      ],
      "execution_count": null
    },
    {
      "metadata": {
        "ExecuteTime": {
          "end_time": "2025-05-28T17:37:28.566571Z",
          "start_time": "2025-05-28T17:37:28.545488Z"
        },
        "colab": {
          "base_uri": "https://localhost:8080/",
          "height": 499
        },
        "id": "9aad0b91a14b9246",
        "outputId": "89691649-9455-4b3d-bbef-06ba8efc56f5"
      },
      "cell_type": "code",
      "source": [
        "df = df[[text_col] + emotion_cols_no_neutral].copy()\n",
        "df.head()"
      ],
      "id": "9aad0b91a14b9246",
      "outputs": [
        {
          "output_type": "execute_result",
          "data": {
            "text/plain": [
              "                                                text  admiration  amusement  \\\n",
              "0                                    That game hurt.           0          0   \n",
              "1   >sexuality shouldn’t be a grouping category I...           0          0   \n",
              "3                                 Man I love reddit.           0          0   \n",
              "5  Right? Considering it’s such an important docu...           0          0   \n",
              "6  He isn't as big, but he's still quite popular....           0          0   \n",
              "\n",
              "   anger  annoyance  approval  caring  confusion  curiosity  desire  ...  joy  \\\n",
              "0      0          0         0       0          0          0       0  ...    0   \n",
              "1      0          0         0       0          0          0       0  ...    0   \n",
              "3      0          0         0       0          0          0       0  ...    0   \n",
              "5      0          0         0       0          0          0       0  ...    0   \n",
              "6      0          0         0       0          0          0       0  ...    0   \n",
              "\n",
              "   love  nervousness  optimism  pride  realization  relief  remorse  sadness  \\\n",
              "0     0            0         0      0            0       0        0        1   \n",
              "1     0            0         0      0            0       0        0        0   \n",
              "3     1            0         0      0            0       0        0        0   \n",
              "5     0            0         0      0            0       0        0        0   \n",
              "6     0            0         0      0            0       0        0        0   \n",
              "\n",
              "   surprise  \n",
              "0         0  \n",
              "1         0  \n",
              "3         0  \n",
              "5         0  \n",
              "6         0  \n",
              "\n",
              "[5 rows x 28 columns]"
            ],
            "text/html": [
              "\n",
              "  <div id=\"df-f1a71113-5bed-4af5-af40-ca795f6d2e40\" class=\"colab-df-container\">\n",
              "    <div>\n",
              "<style scoped>\n",
              "    .dataframe tbody tr th:only-of-type {\n",
              "        vertical-align: middle;\n",
              "    }\n",
              "\n",
              "    .dataframe tbody tr th {\n",
              "        vertical-align: top;\n",
              "    }\n",
              "\n",
              "    .dataframe thead th {\n",
              "        text-align: right;\n",
              "    }\n",
              "</style>\n",
              "<table border=\"1\" class=\"dataframe\">\n",
              "  <thead>\n",
              "    <tr style=\"text-align: right;\">\n",
              "      <th></th>\n",
              "      <th>text</th>\n",
              "      <th>admiration</th>\n",
              "      <th>amusement</th>\n",
              "      <th>anger</th>\n",
              "      <th>annoyance</th>\n",
              "      <th>approval</th>\n",
              "      <th>caring</th>\n",
              "      <th>confusion</th>\n",
              "      <th>curiosity</th>\n",
              "      <th>desire</th>\n",
              "      <th>...</th>\n",
              "      <th>joy</th>\n",
              "      <th>love</th>\n",
              "      <th>nervousness</th>\n",
              "      <th>optimism</th>\n",
              "      <th>pride</th>\n",
              "      <th>realization</th>\n",
              "      <th>relief</th>\n",
              "      <th>remorse</th>\n",
              "      <th>sadness</th>\n",
              "      <th>surprise</th>\n",
              "    </tr>\n",
              "  </thead>\n",
              "  <tbody>\n",
              "    <tr>\n",
              "      <th>0</th>\n",
              "      <td>That game hurt.</td>\n",
              "      <td>0</td>\n",
              "      <td>0</td>\n",
              "      <td>0</td>\n",
              "      <td>0</td>\n",
              "      <td>0</td>\n",
              "      <td>0</td>\n",
              "      <td>0</td>\n",
              "      <td>0</td>\n",
              "      <td>0</td>\n",
              "      <td>...</td>\n",
              "      <td>0</td>\n",
              "      <td>0</td>\n",
              "      <td>0</td>\n",
              "      <td>0</td>\n",
              "      <td>0</td>\n",
              "      <td>0</td>\n",
              "      <td>0</td>\n",
              "      <td>0</td>\n",
              "      <td>1</td>\n",
              "      <td>0</td>\n",
              "    </tr>\n",
              "    <tr>\n",
              "      <th>1</th>\n",
              "      <td>&gt;sexuality shouldn’t be a grouping category I...</td>\n",
              "      <td>0</td>\n",
              "      <td>0</td>\n",
              "      <td>0</td>\n",
              "      <td>0</td>\n",
              "      <td>0</td>\n",
              "      <td>0</td>\n",
              "      <td>0</td>\n",
              "      <td>0</td>\n",
              "      <td>0</td>\n",
              "      <td>...</td>\n",
              "      <td>0</td>\n",
              "      <td>0</td>\n",
              "      <td>0</td>\n",
              "      <td>0</td>\n",
              "      <td>0</td>\n",
              "      <td>0</td>\n",
              "      <td>0</td>\n",
              "      <td>0</td>\n",
              "      <td>0</td>\n",
              "      <td>0</td>\n",
              "    </tr>\n",
              "    <tr>\n",
              "      <th>3</th>\n",
              "      <td>Man I love reddit.</td>\n",
              "      <td>0</td>\n",
              "      <td>0</td>\n",
              "      <td>0</td>\n",
              "      <td>0</td>\n",
              "      <td>0</td>\n",
              "      <td>0</td>\n",
              "      <td>0</td>\n",
              "      <td>0</td>\n",
              "      <td>0</td>\n",
              "      <td>...</td>\n",
              "      <td>0</td>\n",
              "      <td>1</td>\n",
              "      <td>0</td>\n",
              "      <td>0</td>\n",
              "      <td>0</td>\n",
              "      <td>0</td>\n",
              "      <td>0</td>\n",
              "      <td>0</td>\n",
              "      <td>0</td>\n",
              "      <td>0</td>\n",
              "    </tr>\n",
              "    <tr>\n",
              "      <th>5</th>\n",
              "      <td>Right? Considering it’s such an important docu...</td>\n",
              "      <td>0</td>\n",
              "      <td>0</td>\n",
              "      <td>0</td>\n",
              "      <td>0</td>\n",
              "      <td>0</td>\n",
              "      <td>0</td>\n",
              "      <td>0</td>\n",
              "      <td>0</td>\n",
              "      <td>0</td>\n",
              "      <td>...</td>\n",
              "      <td>0</td>\n",
              "      <td>0</td>\n",
              "      <td>0</td>\n",
              "      <td>0</td>\n",
              "      <td>0</td>\n",
              "      <td>0</td>\n",
              "      <td>0</td>\n",
              "      <td>0</td>\n",
              "      <td>0</td>\n",
              "      <td>0</td>\n",
              "    </tr>\n",
              "    <tr>\n",
              "      <th>6</th>\n",
              "      <td>He isn't as big, but he's still quite popular....</td>\n",
              "      <td>0</td>\n",
              "      <td>0</td>\n",
              "      <td>0</td>\n",
              "      <td>0</td>\n",
              "      <td>0</td>\n",
              "      <td>0</td>\n",
              "      <td>0</td>\n",
              "      <td>0</td>\n",
              "      <td>0</td>\n",
              "      <td>...</td>\n",
              "      <td>0</td>\n",
              "      <td>0</td>\n",
              "      <td>0</td>\n",
              "      <td>0</td>\n",
              "      <td>0</td>\n",
              "      <td>0</td>\n",
              "      <td>0</td>\n",
              "      <td>0</td>\n",
              "      <td>0</td>\n",
              "      <td>0</td>\n",
              "    </tr>\n",
              "  </tbody>\n",
              "</table>\n",
              "<p>5 rows × 28 columns</p>\n",
              "</div>\n",
              "    <div class=\"colab-df-buttons\">\n",
              "\n",
              "  <div class=\"colab-df-container\">\n",
              "    <button class=\"colab-df-convert\" onclick=\"convertToInteractive('df-f1a71113-5bed-4af5-af40-ca795f6d2e40')\"\n",
              "            title=\"Convert this dataframe to an interactive table.\"\n",
              "            style=\"display:none;\">\n",
              "\n",
              "  <svg xmlns=\"http://www.w3.org/2000/svg\" height=\"24px\" viewBox=\"0 -960 960 960\">\n",
              "    <path d=\"M120-120v-720h720v720H120Zm60-500h600v-160H180v160Zm220 220h160v-160H400v160Zm0 220h160v-160H400v160ZM180-400h160v-160H180v160Zm440 0h160v-160H620v160ZM180-180h160v-160H180v160Zm440 0h160v-160H620v160Z\"/>\n",
              "  </svg>\n",
              "    </button>\n",
              "\n",
              "  <style>\n",
              "    .colab-df-container {\n",
              "      display:flex;\n",
              "      gap: 12px;\n",
              "    }\n",
              "\n",
              "    .colab-df-convert {\n",
              "      background-color: #E8F0FE;\n",
              "      border: none;\n",
              "      border-radius: 50%;\n",
              "      cursor: pointer;\n",
              "      display: none;\n",
              "      fill: #1967D2;\n",
              "      height: 32px;\n",
              "      padding: 0 0 0 0;\n",
              "      width: 32px;\n",
              "    }\n",
              "\n",
              "    .colab-df-convert:hover {\n",
              "      background-color: #E2EBFA;\n",
              "      box-shadow: 0px 1px 2px rgba(60, 64, 67, 0.3), 0px 1px 3px 1px rgba(60, 64, 67, 0.15);\n",
              "      fill: #174EA6;\n",
              "    }\n",
              "\n",
              "    .colab-df-buttons div {\n",
              "      margin-bottom: 4px;\n",
              "    }\n",
              "\n",
              "    [theme=dark] .colab-df-convert {\n",
              "      background-color: #3B4455;\n",
              "      fill: #D2E3FC;\n",
              "    }\n",
              "\n",
              "    [theme=dark] .colab-df-convert:hover {\n",
              "      background-color: #434B5C;\n",
              "      box-shadow: 0px 1px 3px 1px rgba(0, 0, 0, 0.15);\n",
              "      filter: drop-shadow(0px 1px 2px rgba(0, 0, 0, 0.3));\n",
              "      fill: #FFFFFF;\n",
              "    }\n",
              "  </style>\n",
              "\n",
              "    <script>\n",
              "      const buttonEl =\n",
              "        document.querySelector('#df-f1a71113-5bed-4af5-af40-ca795f6d2e40 button.colab-df-convert');\n",
              "      buttonEl.style.display =\n",
              "        google.colab.kernel.accessAllowed ? 'block' : 'none';\n",
              "\n",
              "      async function convertToInteractive(key) {\n",
              "        const element = document.querySelector('#df-f1a71113-5bed-4af5-af40-ca795f6d2e40');\n",
              "        const dataTable =\n",
              "          await google.colab.kernel.invokeFunction('convertToInteractive',\n",
              "                                                    [key], {});\n",
              "        if (!dataTable) return;\n",
              "\n",
              "        const docLinkHtml = 'Like what you see? Visit the ' +\n",
              "          '<a target=\"_blank\" href=https://colab.research.google.com/notebooks/data_table.ipynb>data table notebook</a>'\n",
              "          + ' to learn more about interactive tables.';\n",
              "        element.innerHTML = '';\n",
              "        dataTable['output_type'] = 'display_data';\n",
              "        await google.colab.output.renderOutput(dataTable, element);\n",
              "        const docLink = document.createElement('div');\n",
              "        docLink.innerHTML = docLinkHtml;\n",
              "        element.appendChild(docLink);\n",
              "      }\n",
              "    </script>\n",
              "  </div>\n",
              "\n",
              "\n",
              "    <div id=\"df-ed58afe7-500b-4e6d-99a4-4c8d7f18c9cd\">\n",
              "      <button class=\"colab-df-quickchart\" onclick=\"quickchart('df-ed58afe7-500b-4e6d-99a4-4c8d7f18c9cd')\"\n",
              "                title=\"Suggest charts\"\n",
              "                style=\"display:none;\">\n",
              "\n",
              "<svg xmlns=\"http://www.w3.org/2000/svg\" height=\"24px\"viewBox=\"0 0 24 24\"\n",
              "     width=\"24px\">\n",
              "    <g>\n",
              "        <path d=\"M19 3H5c-1.1 0-2 .9-2 2v14c0 1.1.9 2 2 2h14c1.1 0 2-.9 2-2V5c0-1.1-.9-2-2-2zM9 17H7v-7h2v7zm4 0h-2V7h2v10zm4 0h-2v-4h2v4z\"/>\n",
              "    </g>\n",
              "</svg>\n",
              "      </button>\n",
              "\n",
              "<style>\n",
              "  .colab-df-quickchart {\n",
              "      --bg-color: #E8F0FE;\n",
              "      --fill-color: #1967D2;\n",
              "      --hover-bg-color: #E2EBFA;\n",
              "      --hover-fill-color: #174EA6;\n",
              "      --disabled-fill-color: #AAA;\n",
              "      --disabled-bg-color: #DDD;\n",
              "  }\n",
              "\n",
              "  [theme=dark] .colab-df-quickchart {\n",
              "      --bg-color: #3B4455;\n",
              "      --fill-color: #D2E3FC;\n",
              "      --hover-bg-color: #434B5C;\n",
              "      --hover-fill-color: #FFFFFF;\n",
              "      --disabled-bg-color: #3B4455;\n",
              "      --disabled-fill-color: #666;\n",
              "  }\n",
              "\n",
              "  .colab-df-quickchart {\n",
              "    background-color: var(--bg-color);\n",
              "    border: none;\n",
              "    border-radius: 50%;\n",
              "    cursor: pointer;\n",
              "    display: none;\n",
              "    fill: var(--fill-color);\n",
              "    height: 32px;\n",
              "    padding: 0;\n",
              "    width: 32px;\n",
              "  }\n",
              "\n",
              "  .colab-df-quickchart:hover {\n",
              "    background-color: var(--hover-bg-color);\n",
              "    box-shadow: 0 1px 2px rgba(60, 64, 67, 0.3), 0 1px 3px 1px rgba(60, 64, 67, 0.15);\n",
              "    fill: var(--button-hover-fill-color);\n",
              "  }\n",
              "\n",
              "  .colab-df-quickchart-complete:disabled,\n",
              "  .colab-df-quickchart-complete:disabled:hover {\n",
              "    background-color: var(--disabled-bg-color);\n",
              "    fill: var(--disabled-fill-color);\n",
              "    box-shadow: none;\n",
              "  }\n",
              "\n",
              "  .colab-df-spinner {\n",
              "    border: 2px solid var(--fill-color);\n",
              "    border-color: transparent;\n",
              "    border-bottom-color: var(--fill-color);\n",
              "    animation:\n",
              "      spin 1s steps(1) infinite;\n",
              "  }\n",
              "\n",
              "  @keyframes spin {\n",
              "    0% {\n",
              "      border-color: transparent;\n",
              "      border-bottom-color: var(--fill-color);\n",
              "      border-left-color: var(--fill-color);\n",
              "    }\n",
              "    20% {\n",
              "      border-color: transparent;\n",
              "      border-left-color: var(--fill-color);\n",
              "      border-top-color: var(--fill-color);\n",
              "    }\n",
              "    30% {\n",
              "      border-color: transparent;\n",
              "      border-left-color: var(--fill-color);\n",
              "      border-top-color: var(--fill-color);\n",
              "      border-right-color: var(--fill-color);\n",
              "    }\n",
              "    40% {\n",
              "      border-color: transparent;\n",
              "      border-right-color: var(--fill-color);\n",
              "      border-top-color: var(--fill-color);\n",
              "    }\n",
              "    60% {\n",
              "      border-color: transparent;\n",
              "      border-right-color: var(--fill-color);\n",
              "    }\n",
              "    80% {\n",
              "      border-color: transparent;\n",
              "      border-right-color: var(--fill-color);\n",
              "      border-bottom-color: var(--fill-color);\n",
              "    }\n",
              "    90% {\n",
              "      border-color: transparent;\n",
              "      border-bottom-color: var(--fill-color);\n",
              "    }\n",
              "  }\n",
              "</style>\n",
              "\n",
              "      <script>\n",
              "        async function quickchart(key) {\n",
              "          const quickchartButtonEl =\n",
              "            document.querySelector('#' + key + ' button');\n",
              "          quickchartButtonEl.disabled = true;  // To prevent multiple clicks.\n",
              "          quickchartButtonEl.classList.add('colab-df-spinner');\n",
              "          try {\n",
              "            const charts = await google.colab.kernel.invokeFunction(\n",
              "                'suggestCharts', [key], {});\n",
              "          } catch (error) {\n",
              "            console.error('Error during call to suggestCharts:', error);\n",
              "          }\n",
              "          quickchartButtonEl.classList.remove('colab-df-spinner');\n",
              "          quickchartButtonEl.classList.add('colab-df-quickchart-complete');\n",
              "        }\n",
              "        (() => {\n",
              "          let quickchartButtonEl =\n",
              "            document.querySelector('#df-ed58afe7-500b-4e6d-99a4-4c8d7f18c9cd button');\n",
              "          quickchartButtonEl.style.display =\n",
              "            google.colab.kernel.accessAllowed ? 'block' : 'none';\n",
              "        })();\n",
              "      </script>\n",
              "    </div>\n",
              "\n",
              "    </div>\n",
              "  </div>\n"
            ],
            "application/vnd.google.colaboratory.intrinsic+json": {
              "type": "dataframe",
              "variable_name": "df"
            }
          },
          "metadata": {},
          "execution_count": 15
        }
      ],
      "execution_count": null
    },
    {
      "metadata": {
        "id": "989e03dd5c86ea9f"
      },
      "cell_type": "markdown",
      "source": [
        "On combine les lignes en fonction de l'émotion dominante, car les textes ont été labellisés par des personnes différentes, donc ils apparaissent plusieurs fois, et parfois avec des émotions différentes"
      ],
      "id": "989e03dd5c86ea9f"
    },
    {
      "metadata": {
        "ExecuteTime": {
          "end_time": "2025-05-28T17:37:47.566165Z",
          "start_time": "2025-05-28T17:37:28.594167Z"
        },
        "colab": {
          "base_uri": "https://localhost:8080/"
        },
        "id": "716053728bfc8870",
        "outputId": "c658a028-1a43-4b9b-e9bb-51cf0730a025"
      },
      "cell_type": "code",
      "source": [
        "mask = df[emotion_cols_no_neutral].sum(axis=1) > 0\n",
        "df_filtered = df[mask].copy()\n",
        "df_aggregate = aggregate_rows(df_filtered, majority_vote, emotion_cols_no_neutral)\n",
        "print(len(df_aggregate))"
      ],
      "id": "716053728bfc8870",
      "outputs": [
        {
          "output_type": "stream",
          "name": "stdout",
          "text": [
            "46302\n"
          ]
        }
      ],
      "execution_count": null
    },
    {
      "metadata": {
        "ExecuteTime": {
          "end_time": "2025-05-28T17:37:47.703939Z",
          "start_time": "2025-05-28T17:37:47.692852Z"
        },
        "colab": {
          "base_uri": "https://localhost:8080/",
          "height": 534
        },
        "id": "2c39e08ebc1e6e47",
        "outputId": "f33bdc5b-7be6-4b36-91db-2987ede08726"
      },
      "cell_type": "code",
      "source": [
        "emotions_per_row = df_aggregate[emotion_cols_no_neutral].sum(axis=1)\n",
        "one_emotion = emotions_per_row == 1\n",
        "\n",
        "print(f\"Lignes avec 1 émotion: {one_emotion.sum()} / {len(df_aggregate)} ({(one_emotion.sum() / len(df_aggregate)) * 100:.1f}%)\")\n",
        "df_aggregate.head()"
      ],
      "id": "2c39e08ebc1e6e47",
      "outputs": [
        {
          "output_type": "stream",
          "name": "stdout",
          "text": [
            "Lignes avec 1 émotion: 35683 / 46302 (77.1%)\n"
          ]
        },
        {
          "output_type": "execute_result",
          "data": {
            "text/plain": [
              "                                                text  admiration  amusement  \\\n",
              "0   \"If you don't wear BROWN AND ORANGE...YOU DON...           0          0   \n",
              "1   \"What do Scottish people look like?\" How I wo...           0          0   \n",
              "2     ### A surprise, to be sure, but a welcome one            0          0   \n",
              "3   >sexuality shouldn’t be a grouping category I...           0          0   \n",
              "4   And not all children's hospitals need the sam...           0          0   \n",
              "\n",
              "   anger  annoyance  approval  caring  confusion  curiosity  desire  ...  joy  \\\n",
              "0      0          1         0       0          0          0       0  ...    0   \n",
              "1      0          0         0       0          0          1       0  ...    0   \n",
              "2      0          0         0       0          0          0       0  ...    0   \n",
              "3      0          0         0       0          0          0       0  ...    0   \n",
              "4      0          0         1       0          0          0       1  ...    0   \n",
              "\n",
              "   love  nervousness  optimism  pride  realization  relief  remorse  sadness  \\\n",
              "0     0            0         0      0            0       0        0        0   \n",
              "1     1            0         0      0            0       0        0        0   \n",
              "2     0            0         0      0            0       0        0        0   \n",
              "3     0            0         1      0            0       0        0        0   \n",
              "4     1            0         0      0            0       0        0        0   \n",
              "\n",
              "   surprise  \n",
              "0         0  \n",
              "1         0  \n",
              "2         1  \n",
              "3         0  \n",
              "4         0  \n",
              "\n",
              "[5 rows x 28 columns]"
            ],
            "text/html": [
              "\n",
              "  <div id=\"df-5eeacdf2-e15f-4128-8809-676507023372\" class=\"colab-df-container\">\n",
              "    <div>\n",
              "<style scoped>\n",
              "    .dataframe tbody tr th:only-of-type {\n",
              "        vertical-align: middle;\n",
              "    }\n",
              "\n",
              "    .dataframe tbody tr th {\n",
              "        vertical-align: top;\n",
              "    }\n",
              "\n",
              "    .dataframe thead th {\n",
              "        text-align: right;\n",
              "    }\n",
              "</style>\n",
              "<table border=\"1\" class=\"dataframe\">\n",
              "  <thead>\n",
              "    <tr style=\"text-align: right;\">\n",
              "      <th></th>\n",
              "      <th>text</th>\n",
              "      <th>admiration</th>\n",
              "      <th>amusement</th>\n",
              "      <th>anger</th>\n",
              "      <th>annoyance</th>\n",
              "      <th>approval</th>\n",
              "      <th>caring</th>\n",
              "      <th>confusion</th>\n",
              "      <th>curiosity</th>\n",
              "      <th>desire</th>\n",
              "      <th>...</th>\n",
              "      <th>joy</th>\n",
              "      <th>love</th>\n",
              "      <th>nervousness</th>\n",
              "      <th>optimism</th>\n",
              "      <th>pride</th>\n",
              "      <th>realization</th>\n",
              "      <th>relief</th>\n",
              "      <th>remorse</th>\n",
              "      <th>sadness</th>\n",
              "      <th>surprise</th>\n",
              "    </tr>\n",
              "  </thead>\n",
              "  <tbody>\n",
              "    <tr>\n",
              "      <th>0</th>\n",
              "      <td>\"If you don't wear BROWN AND ORANGE...YOU DON...</td>\n",
              "      <td>0</td>\n",
              "      <td>0</td>\n",
              "      <td>0</td>\n",
              "      <td>1</td>\n",
              "      <td>0</td>\n",
              "      <td>0</td>\n",
              "      <td>0</td>\n",
              "      <td>0</td>\n",
              "      <td>0</td>\n",
              "      <td>...</td>\n",
              "      <td>0</td>\n",
              "      <td>0</td>\n",
              "      <td>0</td>\n",
              "      <td>0</td>\n",
              "      <td>0</td>\n",
              "      <td>0</td>\n",
              "      <td>0</td>\n",
              "      <td>0</td>\n",
              "      <td>0</td>\n",
              "      <td>0</td>\n",
              "    </tr>\n",
              "    <tr>\n",
              "      <th>1</th>\n",
              "      <td>\"What do Scottish people look like?\" How I wo...</td>\n",
              "      <td>0</td>\n",
              "      <td>0</td>\n",
              "      <td>0</td>\n",
              "      <td>0</td>\n",
              "      <td>0</td>\n",
              "      <td>0</td>\n",
              "      <td>0</td>\n",
              "      <td>1</td>\n",
              "      <td>0</td>\n",
              "      <td>...</td>\n",
              "      <td>0</td>\n",
              "      <td>1</td>\n",
              "      <td>0</td>\n",
              "      <td>0</td>\n",
              "      <td>0</td>\n",
              "      <td>0</td>\n",
              "      <td>0</td>\n",
              "      <td>0</td>\n",
              "      <td>0</td>\n",
              "      <td>0</td>\n",
              "    </tr>\n",
              "    <tr>\n",
              "      <th>2</th>\n",
              "      <td>### A surprise, to be sure, but a welcome one</td>\n",
              "      <td>0</td>\n",
              "      <td>0</td>\n",
              "      <td>0</td>\n",
              "      <td>0</td>\n",
              "      <td>0</td>\n",
              "      <td>0</td>\n",
              "      <td>0</td>\n",
              "      <td>0</td>\n",
              "      <td>0</td>\n",
              "      <td>...</td>\n",
              "      <td>0</td>\n",
              "      <td>0</td>\n",
              "      <td>0</td>\n",
              "      <td>0</td>\n",
              "      <td>0</td>\n",
              "      <td>0</td>\n",
              "      <td>0</td>\n",
              "      <td>0</td>\n",
              "      <td>0</td>\n",
              "      <td>1</td>\n",
              "    </tr>\n",
              "    <tr>\n",
              "      <th>3</th>\n",
              "      <td>&gt;sexuality shouldn’t be a grouping category I...</td>\n",
              "      <td>0</td>\n",
              "      <td>0</td>\n",
              "      <td>0</td>\n",
              "      <td>0</td>\n",
              "      <td>0</td>\n",
              "      <td>0</td>\n",
              "      <td>0</td>\n",
              "      <td>0</td>\n",
              "      <td>0</td>\n",
              "      <td>...</td>\n",
              "      <td>0</td>\n",
              "      <td>0</td>\n",
              "      <td>0</td>\n",
              "      <td>1</td>\n",
              "      <td>0</td>\n",
              "      <td>0</td>\n",
              "      <td>0</td>\n",
              "      <td>0</td>\n",
              "      <td>0</td>\n",
              "      <td>0</td>\n",
              "    </tr>\n",
              "    <tr>\n",
              "      <th>4</th>\n",
              "      <td>And not all children's hospitals need the sam...</td>\n",
              "      <td>0</td>\n",
              "      <td>0</td>\n",
              "      <td>0</td>\n",
              "      <td>0</td>\n",
              "      <td>1</td>\n",
              "      <td>0</td>\n",
              "      <td>0</td>\n",
              "      <td>0</td>\n",
              "      <td>1</td>\n",
              "      <td>...</td>\n",
              "      <td>0</td>\n",
              "      <td>1</td>\n",
              "      <td>0</td>\n",
              "      <td>0</td>\n",
              "      <td>0</td>\n",
              "      <td>0</td>\n",
              "      <td>0</td>\n",
              "      <td>0</td>\n",
              "      <td>0</td>\n",
              "      <td>0</td>\n",
              "    </tr>\n",
              "  </tbody>\n",
              "</table>\n",
              "<p>5 rows × 28 columns</p>\n",
              "</div>\n",
              "    <div class=\"colab-df-buttons\">\n",
              "\n",
              "  <div class=\"colab-df-container\">\n",
              "    <button class=\"colab-df-convert\" onclick=\"convertToInteractive('df-5eeacdf2-e15f-4128-8809-676507023372')\"\n",
              "            title=\"Convert this dataframe to an interactive table.\"\n",
              "            style=\"display:none;\">\n",
              "\n",
              "  <svg xmlns=\"http://www.w3.org/2000/svg\" height=\"24px\" viewBox=\"0 -960 960 960\">\n",
              "    <path d=\"M120-120v-720h720v720H120Zm60-500h600v-160H180v160Zm220 220h160v-160H400v160Zm0 220h160v-160H400v160ZM180-400h160v-160H180v160Zm440 0h160v-160H620v160ZM180-180h160v-160H180v160Zm440 0h160v-160H620v160Z\"/>\n",
              "  </svg>\n",
              "    </button>\n",
              "\n",
              "  <style>\n",
              "    .colab-df-container {\n",
              "      display:flex;\n",
              "      gap: 12px;\n",
              "    }\n",
              "\n",
              "    .colab-df-convert {\n",
              "      background-color: #E8F0FE;\n",
              "      border: none;\n",
              "      border-radius: 50%;\n",
              "      cursor: pointer;\n",
              "      display: none;\n",
              "      fill: #1967D2;\n",
              "      height: 32px;\n",
              "      padding: 0 0 0 0;\n",
              "      width: 32px;\n",
              "    }\n",
              "\n",
              "    .colab-df-convert:hover {\n",
              "      background-color: #E2EBFA;\n",
              "      box-shadow: 0px 1px 2px rgba(60, 64, 67, 0.3), 0px 1px 3px 1px rgba(60, 64, 67, 0.15);\n",
              "      fill: #174EA6;\n",
              "    }\n",
              "\n",
              "    .colab-df-buttons div {\n",
              "      margin-bottom: 4px;\n",
              "    }\n",
              "\n",
              "    [theme=dark] .colab-df-convert {\n",
              "      background-color: #3B4455;\n",
              "      fill: #D2E3FC;\n",
              "    }\n",
              "\n",
              "    [theme=dark] .colab-df-convert:hover {\n",
              "      background-color: #434B5C;\n",
              "      box-shadow: 0px 1px 3px 1px rgba(0, 0, 0, 0.15);\n",
              "      filter: drop-shadow(0px 1px 2px rgba(0, 0, 0, 0.3));\n",
              "      fill: #FFFFFF;\n",
              "    }\n",
              "  </style>\n",
              "\n",
              "    <script>\n",
              "      const buttonEl =\n",
              "        document.querySelector('#df-5eeacdf2-e15f-4128-8809-676507023372 button.colab-df-convert');\n",
              "      buttonEl.style.display =\n",
              "        google.colab.kernel.accessAllowed ? 'block' : 'none';\n",
              "\n",
              "      async function convertToInteractive(key) {\n",
              "        const element = document.querySelector('#df-5eeacdf2-e15f-4128-8809-676507023372');\n",
              "        const dataTable =\n",
              "          await google.colab.kernel.invokeFunction('convertToInteractive',\n",
              "                                                    [key], {});\n",
              "        if (!dataTable) return;\n",
              "\n",
              "        const docLinkHtml = 'Like what you see? Visit the ' +\n",
              "          '<a target=\"_blank\" href=https://colab.research.google.com/notebooks/data_table.ipynb>data table notebook</a>'\n",
              "          + ' to learn more about interactive tables.';\n",
              "        element.innerHTML = '';\n",
              "        dataTable['output_type'] = 'display_data';\n",
              "        await google.colab.output.renderOutput(dataTable, element);\n",
              "        const docLink = document.createElement('div');\n",
              "        docLink.innerHTML = docLinkHtml;\n",
              "        element.appendChild(docLink);\n",
              "      }\n",
              "    </script>\n",
              "  </div>\n",
              "\n",
              "\n",
              "    <div id=\"df-45fc3f1c-a978-4d26-8b0f-8da89d37f2d1\">\n",
              "      <button class=\"colab-df-quickchart\" onclick=\"quickchart('df-45fc3f1c-a978-4d26-8b0f-8da89d37f2d1')\"\n",
              "                title=\"Suggest charts\"\n",
              "                style=\"display:none;\">\n",
              "\n",
              "<svg xmlns=\"http://www.w3.org/2000/svg\" height=\"24px\"viewBox=\"0 0 24 24\"\n",
              "     width=\"24px\">\n",
              "    <g>\n",
              "        <path d=\"M19 3H5c-1.1 0-2 .9-2 2v14c0 1.1.9 2 2 2h14c1.1 0 2-.9 2-2V5c0-1.1-.9-2-2-2zM9 17H7v-7h2v7zm4 0h-2V7h2v10zm4 0h-2v-4h2v4z\"/>\n",
              "    </g>\n",
              "</svg>\n",
              "      </button>\n",
              "\n",
              "<style>\n",
              "  .colab-df-quickchart {\n",
              "      --bg-color: #E8F0FE;\n",
              "      --fill-color: #1967D2;\n",
              "      --hover-bg-color: #E2EBFA;\n",
              "      --hover-fill-color: #174EA6;\n",
              "      --disabled-fill-color: #AAA;\n",
              "      --disabled-bg-color: #DDD;\n",
              "  }\n",
              "\n",
              "  [theme=dark] .colab-df-quickchart {\n",
              "      --bg-color: #3B4455;\n",
              "      --fill-color: #D2E3FC;\n",
              "      --hover-bg-color: #434B5C;\n",
              "      --hover-fill-color: #FFFFFF;\n",
              "      --disabled-bg-color: #3B4455;\n",
              "      --disabled-fill-color: #666;\n",
              "  }\n",
              "\n",
              "  .colab-df-quickchart {\n",
              "    background-color: var(--bg-color);\n",
              "    border: none;\n",
              "    border-radius: 50%;\n",
              "    cursor: pointer;\n",
              "    display: none;\n",
              "    fill: var(--fill-color);\n",
              "    height: 32px;\n",
              "    padding: 0;\n",
              "    width: 32px;\n",
              "  }\n",
              "\n",
              "  .colab-df-quickchart:hover {\n",
              "    background-color: var(--hover-bg-color);\n",
              "    box-shadow: 0 1px 2px rgba(60, 64, 67, 0.3), 0 1px 3px 1px rgba(60, 64, 67, 0.15);\n",
              "    fill: var(--button-hover-fill-color);\n",
              "  }\n",
              "\n",
              "  .colab-df-quickchart-complete:disabled,\n",
              "  .colab-df-quickchart-complete:disabled:hover {\n",
              "    background-color: var(--disabled-bg-color);\n",
              "    fill: var(--disabled-fill-color);\n",
              "    box-shadow: none;\n",
              "  }\n",
              "\n",
              "  .colab-df-spinner {\n",
              "    border: 2px solid var(--fill-color);\n",
              "    border-color: transparent;\n",
              "    border-bottom-color: var(--fill-color);\n",
              "    animation:\n",
              "      spin 1s steps(1) infinite;\n",
              "  }\n",
              "\n",
              "  @keyframes spin {\n",
              "    0% {\n",
              "      border-color: transparent;\n",
              "      border-bottom-color: var(--fill-color);\n",
              "      border-left-color: var(--fill-color);\n",
              "    }\n",
              "    20% {\n",
              "      border-color: transparent;\n",
              "      border-left-color: var(--fill-color);\n",
              "      border-top-color: var(--fill-color);\n",
              "    }\n",
              "    30% {\n",
              "      border-color: transparent;\n",
              "      border-left-color: var(--fill-color);\n",
              "      border-top-color: var(--fill-color);\n",
              "      border-right-color: var(--fill-color);\n",
              "    }\n",
              "    40% {\n",
              "      border-color: transparent;\n",
              "      border-right-color: var(--fill-color);\n",
              "      border-top-color: var(--fill-color);\n",
              "    }\n",
              "    60% {\n",
              "      border-color: transparent;\n",
              "      border-right-color: var(--fill-color);\n",
              "    }\n",
              "    80% {\n",
              "      border-color: transparent;\n",
              "      border-right-color: var(--fill-color);\n",
              "      border-bottom-color: var(--fill-color);\n",
              "    }\n",
              "    90% {\n",
              "      border-color: transparent;\n",
              "      border-bottom-color: var(--fill-color);\n",
              "    }\n",
              "  }\n",
              "</style>\n",
              "\n",
              "      <script>\n",
              "        async function quickchart(key) {\n",
              "          const quickchartButtonEl =\n",
              "            document.querySelector('#' + key + ' button');\n",
              "          quickchartButtonEl.disabled = true;  // To prevent multiple clicks.\n",
              "          quickchartButtonEl.classList.add('colab-df-spinner');\n",
              "          try {\n",
              "            const charts = await google.colab.kernel.invokeFunction(\n",
              "                'suggestCharts', [key], {});\n",
              "          } catch (error) {\n",
              "            console.error('Error during call to suggestCharts:', error);\n",
              "          }\n",
              "          quickchartButtonEl.classList.remove('colab-df-spinner');\n",
              "          quickchartButtonEl.classList.add('colab-df-quickchart-complete');\n",
              "        }\n",
              "        (() => {\n",
              "          let quickchartButtonEl =\n",
              "            document.querySelector('#df-45fc3f1c-a978-4d26-8b0f-8da89d37f2d1 button');\n",
              "          quickchartButtonEl.style.display =\n",
              "            google.colab.kernel.accessAllowed ? 'block' : 'none';\n",
              "        })();\n",
              "      </script>\n",
              "    </div>\n",
              "\n",
              "    </div>\n",
              "  </div>\n"
            ],
            "application/vnd.google.colaboratory.intrinsic+json": {
              "type": "dataframe",
              "variable_name": "df_aggregate"
            }
          },
          "metadata": {},
          "execution_count": 17
        }
      ],
      "execution_count": null
    },
    {
      "metadata": {
        "id": "ad12ab7c4b7375f6"
      },
      "cell_type": "markdown",
      "source": [
        "### On applique les RegEx pour que BERT puisse mieux saisir le sens"
      ],
      "id": "ad12ab7c4b7375f6"
    },
    {
      "metadata": {
        "ExecuteTime": {
          "end_time": "2025-05-28T17:38:01.100126Z",
          "start_time": "2025-05-28T17:37:47.831562Z"
        },
        "id": "f85cfb6712f964b1"
      },
      "cell_type": "code",
      "source": [
        "df_clean = df_aggregate.copy()\n",
        "df_clean[text_col] = df_clean[text_col].apply(preprocess_text)"
      ],
      "id": "f85cfb6712f964b1",
      "outputs": [],
      "execution_count": null
    },
    {
      "metadata": {
        "id": "4006f1577ccf9fd9"
      },
      "cell_type": "markdown",
      "source": [
        "## Dataframe avec nos 27 émotions"
      ],
      "id": "4006f1577ccf9fd9"
    },
    {
      "metadata": {
        "ExecuteTime": {
          "end_time": "2025-05-28T17:49:16.789039Z",
          "start_time": "2025-05-28T17:49:16.768572Z"
        },
        "id": "6d934f9b802e9b34"
      },
      "cell_type": "code",
      "source": [
        "df_27_emotions = df_clean.copy()"
      ],
      "id": "6d934f9b802e9b34",
      "outputs": [],
      "execution_count": null
    },
    {
      "metadata": {
        "id": "de5030d1e6fadddb"
      },
      "cell_type": "markdown",
      "source": [
        "## On passe de 27 à 6 émotions\n",
        "Les 6 émotions d'Ekman constituent un standard scientifique robuste qui évite les ambiguïtés d'annotation et optimise les performances de classification sur texte."
      ],
      "id": "de5030d1e6fadddb"
    },
    {
      "metadata": {
        "id": "7f69645368e3ec28"
      },
      "cell_type": "code",
      "source": [
        "emotion_cols_ekman = ['anger', 'disgust', 'fear', 'joy', 'sadness', 'surprise']\n",
        "df_6_emotions = df_clean[['text'] + emotion_cols_ekman].copy()"
      ],
      "id": "7f69645368e3ec28",
      "outputs": [],
      "execution_count": null
    },
    {
      "metadata": {
        "ExecuteTime": {
          "end_time": "2025-05-28T17:49:16.808927Z",
          "start_time": "2025-05-28T17:49:16.794271Z"
        },
        "colab": {
          "base_uri": "https://localhost:8080/"
        },
        "id": "c81bbc9241b37f12",
        "outputId": "4c53f291-6f8a-4cd3-afbc-8c3441636f21"
      },
      "cell_type": "code",
      "outputs": [
        {
          "output_type": "stream",
          "name": "stdout",
          "text": [
            "10049\n"
          ]
        }
      ],
      "execution_count": null,
      "source": [
        "# Vu qu'on a supprimé beaucoup de colonnes, certaines lignes n'ont plus d'émotions = 1 donc on les supprime\n",
        "mask = df_6_emotions[emotion_cols_ekman].sum(axis=1) > 0\n",
        "df_6_emotions = df_6_emotions[mask].copy()\n",
        "print(len(df_6_emotions))"
      ],
      "id": "c81bbc9241b37f12"
    },
    {
      "metadata": {
        "id": "778c409722d4a87"
      },
      "cell_type": "markdown",
      "source": [
        "## On passe de 27 à 2 émotions\n",
        "Positif vs Negatif (ici on se rebase sur notre dataframe `df_clean` qui contient toutes les émotions)"
      ],
      "id": "778c409722d4a87"
    },
    {
      "metadata": {
        "ExecuteTime": {
          "end_time": "2025-05-28T17:49:16.832010Z",
          "start_time": "2025-05-28T17:49:16.829352Z"
        },
        "id": "92efe0caa4a6f08a"
      },
      "cell_type": "code",
      "source": [
        "def create_binary_labels(df, emotion_cols):\n",
        "    groups = {\n",
        "        'positive': ['admiration', 'amusement', 'approval', 'excitement', 'gratitude',\n",
        "                    'joy', 'love', 'optimism', 'pride', 'relief', 'caring', 'curiosity'],\n",
        "        'negative': ['anger', 'annoyance', 'disappointment', 'disapproval', 'disgust',\n",
        "                    'embarrassment', 'fear', 'grief', 'nervousness', 'remorse', 'sadness']\n",
        "    }\n",
        "\n",
        "    df_binary = df.copy()\n",
        "    for group_name, emotions in groups.items():\n",
        "        df_binary[group_name] = df[[e for e in emotions if e in emotion_cols]].max(axis=1)\n",
        "\n",
        "    return df_binary[['text'] + list(groups.keys())]"
      ],
      "id": "92efe0caa4a6f08a",
      "outputs": [],
      "execution_count": null
    },
    {
      "metadata": {
        "ExecuteTime": {
          "end_time": "2025-05-28T17:49:16.864279Z",
          "start_time": "2025-05-28T17:49:16.844694Z"
        },
        "id": "2736d0d375ed3ed3"
      },
      "cell_type": "code",
      "source": [
        "emotion_cols_binary = ['positive', 'negative']\n",
        "df_2_emotions = create_binary_labels(df_clean, emotion_cols_no_neutral)"
      ],
      "id": "2736d0d375ed3ed3",
      "outputs": [],
      "execution_count": null
    },
    {
      "metadata": {
        "ExecuteTime": {
          "end_time": "2025-05-28T17:49:16.881653Z",
          "start_time": "2025-05-28T17:49:16.877574Z"
        },
        "colab": {
          "base_uri": "https://localhost:8080/",
          "height": 224
        },
        "id": "266daa4830c4dba2",
        "outputId": "94c2fd39-0f10-44e4-840a-ad3c193f9957"
      },
      "cell_type": "code",
      "source": [
        "print(len(df_2_emotions))\n",
        "df_2_emotions.head()"
      ],
      "id": "266daa4830c4dba2",
      "outputs": [
        {
          "output_type": "stream",
          "name": "stdout",
          "text": [
            "46302\n"
          ]
        },
        {
          "output_type": "execute_result",
          "data": {
            "text/plain": [
              "                                                text  positive  negative\n",
              "0  \"If you don't wear BROWN AND ORANGE...YOU DON'...         0         1\n",
              "1  \"What do Scottish people look like?\" How I wou...         1         0\n",
              "2      ### A surprise, to be sure, but a welcome one         0         0\n",
              "3  >sexuality shouldn’t be a grouping category It...         1         1\n",
              "4  And not all children's hospitals need the same...         1         0"
            ],
            "text/html": [
              "\n",
              "  <div id=\"df-82e6745b-9ee9-421e-8029-9c5b2572019c\" class=\"colab-df-container\">\n",
              "    <div>\n",
              "<style scoped>\n",
              "    .dataframe tbody tr th:only-of-type {\n",
              "        vertical-align: middle;\n",
              "    }\n",
              "\n",
              "    .dataframe tbody tr th {\n",
              "        vertical-align: top;\n",
              "    }\n",
              "\n",
              "    .dataframe thead th {\n",
              "        text-align: right;\n",
              "    }\n",
              "</style>\n",
              "<table border=\"1\" class=\"dataframe\">\n",
              "  <thead>\n",
              "    <tr style=\"text-align: right;\">\n",
              "      <th></th>\n",
              "      <th>text</th>\n",
              "      <th>positive</th>\n",
              "      <th>negative</th>\n",
              "    </tr>\n",
              "  </thead>\n",
              "  <tbody>\n",
              "    <tr>\n",
              "      <th>0</th>\n",
              "      <td>\"If you don't wear BROWN AND ORANGE...YOU DON'...</td>\n",
              "      <td>0</td>\n",
              "      <td>1</td>\n",
              "    </tr>\n",
              "    <tr>\n",
              "      <th>1</th>\n",
              "      <td>\"What do Scottish people look like?\" How I wou...</td>\n",
              "      <td>1</td>\n",
              "      <td>0</td>\n",
              "    </tr>\n",
              "    <tr>\n",
              "      <th>2</th>\n",
              "      <td>### A surprise, to be sure, but a welcome one</td>\n",
              "      <td>0</td>\n",
              "      <td>0</td>\n",
              "    </tr>\n",
              "    <tr>\n",
              "      <th>3</th>\n",
              "      <td>&gt;sexuality shouldn’t be a grouping category It...</td>\n",
              "      <td>1</td>\n",
              "      <td>1</td>\n",
              "    </tr>\n",
              "    <tr>\n",
              "      <th>4</th>\n",
              "      <td>And not all children's hospitals need the same...</td>\n",
              "      <td>1</td>\n",
              "      <td>0</td>\n",
              "    </tr>\n",
              "  </tbody>\n",
              "</table>\n",
              "</div>\n",
              "    <div class=\"colab-df-buttons\">\n",
              "\n",
              "  <div class=\"colab-df-container\">\n",
              "    <button class=\"colab-df-convert\" onclick=\"convertToInteractive('df-82e6745b-9ee9-421e-8029-9c5b2572019c')\"\n",
              "            title=\"Convert this dataframe to an interactive table.\"\n",
              "            style=\"display:none;\">\n",
              "\n",
              "  <svg xmlns=\"http://www.w3.org/2000/svg\" height=\"24px\" viewBox=\"0 -960 960 960\">\n",
              "    <path d=\"M120-120v-720h720v720H120Zm60-500h600v-160H180v160Zm220 220h160v-160H400v160Zm0 220h160v-160H400v160ZM180-400h160v-160H180v160Zm440 0h160v-160H620v160ZM180-180h160v-160H180v160Zm440 0h160v-160H620v160Z\"/>\n",
              "  </svg>\n",
              "    </button>\n",
              "\n",
              "  <style>\n",
              "    .colab-df-container {\n",
              "      display:flex;\n",
              "      gap: 12px;\n",
              "    }\n",
              "\n",
              "    .colab-df-convert {\n",
              "      background-color: #E8F0FE;\n",
              "      border: none;\n",
              "      border-radius: 50%;\n",
              "      cursor: pointer;\n",
              "      display: none;\n",
              "      fill: #1967D2;\n",
              "      height: 32px;\n",
              "      padding: 0 0 0 0;\n",
              "      width: 32px;\n",
              "    }\n",
              "\n",
              "    .colab-df-convert:hover {\n",
              "      background-color: #E2EBFA;\n",
              "      box-shadow: 0px 1px 2px rgba(60, 64, 67, 0.3), 0px 1px 3px 1px rgba(60, 64, 67, 0.15);\n",
              "      fill: #174EA6;\n",
              "    }\n",
              "\n",
              "    .colab-df-buttons div {\n",
              "      margin-bottom: 4px;\n",
              "    }\n",
              "\n",
              "    [theme=dark] .colab-df-convert {\n",
              "      background-color: #3B4455;\n",
              "      fill: #D2E3FC;\n",
              "    }\n",
              "\n",
              "    [theme=dark] .colab-df-convert:hover {\n",
              "      background-color: #434B5C;\n",
              "      box-shadow: 0px 1px 3px 1px rgba(0, 0, 0, 0.15);\n",
              "      filter: drop-shadow(0px 1px 2px rgba(0, 0, 0, 0.3));\n",
              "      fill: #FFFFFF;\n",
              "    }\n",
              "  </style>\n",
              "\n",
              "    <script>\n",
              "      const buttonEl =\n",
              "        document.querySelector('#df-82e6745b-9ee9-421e-8029-9c5b2572019c button.colab-df-convert');\n",
              "      buttonEl.style.display =\n",
              "        google.colab.kernel.accessAllowed ? 'block' : 'none';\n",
              "\n",
              "      async function convertToInteractive(key) {\n",
              "        const element = document.querySelector('#df-82e6745b-9ee9-421e-8029-9c5b2572019c');\n",
              "        const dataTable =\n",
              "          await google.colab.kernel.invokeFunction('convertToInteractive',\n",
              "                                                    [key], {});\n",
              "        if (!dataTable) return;\n",
              "\n",
              "        const docLinkHtml = 'Like what you see? Visit the ' +\n",
              "          '<a target=\"_blank\" href=https://colab.research.google.com/notebooks/data_table.ipynb>data table notebook</a>'\n",
              "          + ' to learn more about interactive tables.';\n",
              "        element.innerHTML = '';\n",
              "        dataTable['output_type'] = 'display_data';\n",
              "        await google.colab.output.renderOutput(dataTable, element);\n",
              "        const docLink = document.createElement('div');\n",
              "        docLink.innerHTML = docLinkHtml;\n",
              "        element.appendChild(docLink);\n",
              "      }\n",
              "    </script>\n",
              "  </div>\n",
              "\n",
              "\n",
              "    <div id=\"df-ab67a3c1-1f99-4628-864b-912546fd7cd9\">\n",
              "      <button class=\"colab-df-quickchart\" onclick=\"quickchart('df-ab67a3c1-1f99-4628-864b-912546fd7cd9')\"\n",
              "                title=\"Suggest charts\"\n",
              "                style=\"display:none;\">\n",
              "\n",
              "<svg xmlns=\"http://www.w3.org/2000/svg\" height=\"24px\"viewBox=\"0 0 24 24\"\n",
              "     width=\"24px\">\n",
              "    <g>\n",
              "        <path d=\"M19 3H5c-1.1 0-2 .9-2 2v14c0 1.1.9 2 2 2h14c1.1 0 2-.9 2-2V5c0-1.1-.9-2-2-2zM9 17H7v-7h2v7zm4 0h-2V7h2v10zm4 0h-2v-4h2v4z\"/>\n",
              "    </g>\n",
              "</svg>\n",
              "      </button>\n",
              "\n",
              "<style>\n",
              "  .colab-df-quickchart {\n",
              "      --bg-color: #E8F0FE;\n",
              "      --fill-color: #1967D2;\n",
              "      --hover-bg-color: #E2EBFA;\n",
              "      --hover-fill-color: #174EA6;\n",
              "      --disabled-fill-color: #AAA;\n",
              "      --disabled-bg-color: #DDD;\n",
              "  }\n",
              "\n",
              "  [theme=dark] .colab-df-quickchart {\n",
              "      --bg-color: #3B4455;\n",
              "      --fill-color: #D2E3FC;\n",
              "      --hover-bg-color: #434B5C;\n",
              "      --hover-fill-color: #FFFFFF;\n",
              "      --disabled-bg-color: #3B4455;\n",
              "      --disabled-fill-color: #666;\n",
              "  }\n",
              "\n",
              "  .colab-df-quickchart {\n",
              "    background-color: var(--bg-color);\n",
              "    border: none;\n",
              "    border-radius: 50%;\n",
              "    cursor: pointer;\n",
              "    display: none;\n",
              "    fill: var(--fill-color);\n",
              "    height: 32px;\n",
              "    padding: 0;\n",
              "    width: 32px;\n",
              "  }\n",
              "\n",
              "  .colab-df-quickchart:hover {\n",
              "    background-color: var(--hover-bg-color);\n",
              "    box-shadow: 0 1px 2px rgba(60, 64, 67, 0.3), 0 1px 3px 1px rgba(60, 64, 67, 0.15);\n",
              "    fill: var(--button-hover-fill-color);\n",
              "  }\n",
              "\n",
              "  .colab-df-quickchart-complete:disabled,\n",
              "  .colab-df-quickchart-complete:disabled:hover {\n",
              "    background-color: var(--disabled-bg-color);\n",
              "    fill: var(--disabled-fill-color);\n",
              "    box-shadow: none;\n",
              "  }\n",
              "\n",
              "  .colab-df-spinner {\n",
              "    border: 2px solid var(--fill-color);\n",
              "    border-color: transparent;\n",
              "    border-bottom-color: var(--fill-color);\n",
              "    animation:\n",
              "      spin 1s steps(1) infinite;\n",
              "  }\n",
              "\n",
              "  @keyframes spin {\n",
              "    0% {\n",
              "      border-color: transparent;\n",
              "      border-bottom-color: var(--fill-color);\n",
              "      border-left-color: var(--fill-color);\n",
              "    }\n",
              "    20% {\n",
              "      border-color: transparent;\n",
              "      border-left-color: var(--fill-color);\n",
              "      border-top-color: var(--fill-color);\n",
              "    }\n",
              "    30% {\n",
              "      border-color: transparent;\n",
              "      border-left-color: var(--fill-color);\n",
              "      border-top-color: var(--fill-color);\n",
              "      border-right-color: var(--fill-color);\n",
              "    }\n",
              "    40% {\n",
              "      border-color: transparent;\n",
              "      border-right-color: var(--fill-color);\n",
              "      border-top-color: var(--fill-color);\n",
              "    }\n",
              "    60% {\n",
              "      border-color: transparent;\n",
              "      border-right-color: var(--fill-color);\n",
              "    }\n",
              "    80% {\n",
              "      border-color: transparent;\n",
              "      border-right-color: var(--fill-color);\n",
              "      border-bottom-color: var(--fill-color);\n",
              "    }\n",
              "    90% {\n",
              "      border-color: transparent;\n",
              "      border-bottom-color: var(--fill-color);\n",
              "    }\n",
              "  }\n",
              "</style>\n",
              "\n",
              "      <script>\n",
              "        async function quickchart(key) {\n",
              "          const quickchartButtonEl =\n",
              "            document.querySelector('#' + key + ' button');\n",
              "          quickchartButtonEl.disabled = true;  // To prevent multiple clicks.\n",
              "          quickchartButtonEl.classList.add('colab-df-spinner');\n",
              "          try {\n",
              "            const charts = await google.colab.kernel.invokeFunction(\n",
              "                'suggestCharts', [key], {});\n",
              "          } catch (error) {\n",
              "            console.error('Error during call to suggestCharts:', error);\n",
              "          }\n",
              "          quickchartButtonEl.classList.remove('colab-df-spinner');\n",
              "          quickchartButtonEl.classList.add('colab-df-quickchart-complete');\n",
              "        }\n",
              "        (() => {\n",
              "          let quickchartButtonEl =\n",
              "            document.querySelector('#df-ab67a3c1-1f99-4628-864b-912546fd7cd9 button');\n",
              "          quickchartButtonEl.style.display =\n",
              "            google.colab.kernel.accessAllowed ? 'block' : 'none';\n",
              "        })();\n",
              "      </script>\n",
              "    </div>\n",
              "\n",
              "    </div>\n",
              "  </div>\n"
            ],
            "application/vnd.google.colaboratory.intrinsic+json": {
              "type": "dataframe",
              "variable_name": "df_2_emotions",
              "summary": "{\n  \"name\": \"df_2_emotions\",\n  \"rows\": 46302,\n  \"fields\": [\n    {\n      \"column\": \"text\",\n      \"properties\": {\n        \"dtype\": \"string\",\n        \"num_unique_values\": 46298,\n        \"samples\": [\n          \"This is actually a beautiful picture lol\",\n          \"Damn kev I knew you love [NAME] but wow this is next level\",\n          \"I hate Detroit\"\n        ],\n        \"semantic_type\": \"\",\n        \"description\": \"\"\n      }\n    },\n    {\n      \"column\": \"positive\",\n      \"properties\": {\n        \"dtype\": \"number\",\n        \"std\": 0,\n        \"min\": 0,\n        \"max\": 1,\n        \"num_unique_values\": 2,\n        \"samples\": [\n          1,\n          0\n        ],\n        \"semantic_type\": \"\",\n        \"description\": \"\"\n      }\n    },\n    {\n      \"column\": \"negative\",\n      \"properties\": {\n        \"dtype\": \"number\",\n        \"std\": 0,\n        \"min\": 0,\n        \"max\": 1,\n        \"num_unique_values\": 2,\n        \"samples\": [\n          0,\n          1\n        ],\n        \"semantic_type\": \"\",\n        \"description\": \"\"\n      }\n    }\n  ]\n}"
            }
          },
          "metadata": {},
          "execution_count": 24
        }
      ],
      "execution_count": null
    },
    {
      "metadata": {
        "id": "5cfeb619f3e0aaae"
      },
      "cell_type": "markdown",
      "source": [
        "## Finetuning BERT avec chaque dataset (27 émotions, 6 émotions, 2 émotions)"
      ],
      "id": "5cfeb619f3e0aaae"
    },
    {
      "metadata": {
        "colab": {
          "base_uri": "https://localhost:8080/"
        },
        "id": "c8144e7d9c521162",
        "outputId": "2ba8f9e1-5023-48f7-f019-909cde4ff355"
      },
      "cell_type": "code",
      "outputs": [
        {
          "output_type": "execute_result",
          "data": {
            "text/plain": [
              "<torch._C.Generator at 0x7e5db8592070>"
            ]
          },
          "metadata": {},
          "execution_count": 25
        }
      ],
      "execution_count": null,
      "source": [
        "import torch\n",
        "from transformers import BertTokenizer, BertForSequenceClassification\n",
        "from sklearn.model_selection import train_test_split\n",
        "from transformers import Trainer, TrainingArguments\n",
        "from sklearn.metrics import f1_score, precision_score, recall_score, accuracy_score\n",
        "from tqdm import tqdm\n",
        "from datasets import Dataset\n",
        "torch.manual_seed(42)"
      ],
      "id": "c8144e7d9c521162"
    },
    {
      "metadata": {
        "colab": {
          "base_uri": "https://localhost:8080/"
        },
        "id": "b9fc0791388e4cc3",
        "outputId": "4a72aa95-a71b-4e04-91cb-822d3e5d4ffb"
      },
      "cell_type": "code",
      "outputs": [
        {
          "output_type": "stream",
          "name": "stdout",
          "text": [
            "Using CUDA\n"
          ]
        }
      ],
      "execution_count": null,
      "source": [
        "if torch.backends.mps.is_available():\n",
        "    device = torch.device(\"mps\")\n",
        "    print(\"Using MPS (Apple Silicon)\")\n",
        "elif torch.cuda.is_available():\n",
        "    device = torch.device(\"cuda\")\n",
        "    print(\"Using CUDA\")\n",
        "else:\n",
        "    device = torch.device(\"cpu\")\n",
        "    print(\"Using CPU\")"
      ],
      "id": "b9fc0791388e4cc3"
    },
    {
      "metadata": {
        "id": "f05c94ddd2d379e2"
      },
      "cell_type": "code",
      "outputs": [],
      "execution_count": null,
      "source": [
        "MODEL_NAME = 'bert-base-uncased'\n",
        "MAX_LENGTH = 128\n",
        "BATCH_SIZE = 8\n",
        "NUM_EPOCHS = 3\n",
        "LEARNING_RATE = 2e-5"
      ],
      "id": "f05c94ddd2d379e2"
    },
    {
      "metadata": {
        "id": "57710596b6048028"
      },
      "cell_type": "code",
      "outputs": [],
      "execution_count": null,
      "source": [
        "def compute_metrics(eval_pred):\n",
        "    predictions, labels = eval_pred\n",
        "\n",
        "    y_pred_probs = torch.sigmoid(torch.tensor(predictions)).numpy()\n",
        "    y_pred = (y_pred_probs >= 0.5).astype(int)  # Seuil à 0.5\n",
        "    y_true = labels.astype(int)\n",
        "\n",
        "    from sklearn.metrics import f1_score, precision_score, recall_score, accuracy_score\n",
        "\n",
        "    f1_micro = f1_score(y_true, y_pred, average='micro', zero_division=0)\n",
        "    f1_macro = f1_score(y_true, y_pred, average='macro', zero_division=0)\n",
        "    f1_weighted = f1_score(y_true, y_pred, average='weighted', zero_division=0)\n",
        "    f1_samples = f1_score(y_true, y_pred, average='samples')  # Spécifique au multi-label\n",
        "\n",
        "    exact_match = np.mean(np.all(y_true == y_pred, axis=1))\n",
        "\n",
        "    return {\n",
        "        'f1_micro': f1_micro,\n",
        "        'f1_macro': f1_macro,\n",
        "        'f1_weighted': f1_weighted,\n",
        "        'f1_samples': f1_samples,\n",
        "        'exact_match': exact_match\n",
        "    }\n",
        "\n",
        "def compute_metrics_detailed(eval_pred, label_names):\n",
        "    predictions, labels = eval_pred\n",
        "\n",
        "    y_pred_probs = torch.sigmoid(torch.tensor(predictions)).numpy()\n",
        "    y_pred = (y_pred_probs >= 0.5).astype(int)\n",
        "    y_true = labels.astype(int)\n",
        "\n",
        "    from sklearn.metrics import f1_score, precision_score, recall_score, classification_report\n",
        "\n",
        "    metrics = {\n",
        "        'f1_micro': f1_score(y_true, y_pred, average='micro', zero_division=0),\n",
        "        'f1_macro': f1_score(y_true, y_pred, average='macro', zero_division=0),\n",
        "        'f1_weighted': f1_score(y_true, y_pred, average='weighted', zero_division=0),\n",
        "        'f1_samples': f1_score(y_true, y_pred, average='samples', zero_division=0),\n",
        "        'precision_micro': precision_score(y_true, y_pred, average='micro', zero_division=0),\n",
        "        'precision_macro': precision_score(y_true, y_pred, average='macro', zero_division=0),\n",
        "        'recall_micro': recall_score(y_true, y_pred, average='micro', zero_division=0),\n",
        "        'recall_macro': recall_score(y_true, y_pred, average='macro', zero_division=0),\n",
        "        'exact_match': np.mean(np.all(y_true == y_pred, axis=1))\n",
        "    }\n",
        "\n",
        "    f1_per_class = f1_score(y_true, y_pred, average=None, zero_division=0)\n",
        "    precision_per_class = precision_score(y_true, y_pred, average=None, zero_division=0)\n",
        "    recall_per_class = recall_score(y_true, y_pred, average=None, zero_division=0)\n",
        "\n",
        "    for i, label in enumerate(label_names):\n",
        "        if i < len(f1_per_class):\n",
        "            metrics[f'f1_{label}'] = f1_per_class[i]\n",
        "            metrics[f'precision_{label}'] = precision_per_class[i]\n",
        "            metrics[f'recall_{label}'] = recall_per_class[i]\n",
        "\n",
        "    return metrics"
      ],
      "id": "57710596b6048028"
    },
    {
      "metadata": {
        "id": "8b2cb8150d43ba13"
      },
      "cell_type": "code",
      "outputs": [],
      "execution_count": null,
      "source": [
        "# Fonction de sauvegarde et de téléchargement du modèle\n",
        "import os\n",
        "import shutil\n",
        "from google.colab import files\n",
        "\n",
        "def save_and_download_model(trainer, tokenizer, model_name=\"bert_emotions_final\"):\n",
        "    print(\"💾 Sauvegarde du modèle...\")\n",
        "\n",
        "    # Sauvegarde locale\n",
        "    trainer.save_model(f\"./{model_name}\")\n",
        "    tokenizer.save_pretrained(f\"./{model_name}\")\n",
        "\n",
        "    # Création d'une archive ZIP\n",
        "    print(\"📦 Création de l'archive...\")\n",
        "    shutil.make_archive(model_name, \"zip\", f\"./{model_name}\")\n",
        "\n",
        "    # Téléchargement\n",
        "    print(\"⬇️ Téléchargement en cours...\")\n",
        "    files.download(f\"{model_name}.zip\")"
      ],
      "id": "8b2cb8150d43ba13"
    },
    {
      "metadata": {
        "id": "fcd1de793fb2e2aa"
      },
      "cell_type": "code",
      "outputs": [],
      "execution_count": null,
      "source": [
        "tokenizer = BertTokenizer.from_pretrained(MODEL_NAME)"
      ],
      "id": "fcd1de793fb2e2aa"
    },
    {
      "metadata": {
        "id": "b0060d633f0d282d"
      },
      "cell_type": "markdown",
      "source": [
        "### Entrainement sur les 27 émotions"
      ],
      "id": "b0060d633f0d282d"
    },
    {
      "metadata": {
        "id": "3032e125c9ad7c61"
      },
      "cell_type": "code",
      "outputs": [],
      "execution_count": null,
      "source": [
        "texts = df_27_emotions['text'].tolist()\n",
        "y_emotions = df_27_emotions[emotion_cols_no_neutral].values"
      ],
      "id": "3032e125c9ad7c61"
    },
    {
      "metadata": {
        "colab": {
          "base_uri": "https://localhost:8080/"
        },
        "id": "21fdf5a616bac644",
        "outputId": "c25c156a-64f7-4900-ebd9-0f060c502cfb"
      },
      "cell_type": "code",
      "outputs": [
        {
          "output_type": "stream",
          "name": "stderr",
          "text": [
            "Some weights of BertForSequenceClassification were not initialized from the model checkpoint at bert-base-uncased and are newly initialized: ['classifier.bias', 'classifier.weight']\n",
            "You should probably TRAIN this model on a down-stream task to be able to use it for predictions and inference.\n"
          ]
        },
        {
          "output_type": "execute_result",
          "data": {
            "text/plain": [
              "BertForSequenceClassification(\n",
              "  (bert): BertModel(\n",
              "    (embeddings): BertEmbeddings(\n",
              "      (word_embeddings): Embedding(30522, 768, padding_idx=0)\n",
              "      (position_embeddings): Embedding(512, 768)\n",
              "      (token_type_embeddings): Embedding(2, 768)\n",
              "      (LayerNorm): LayerNorm((768,), eps=1e-12, elementwise_affine=True)\n",
              "      (dropout): Dropout(p=0.1, inplace=False)\n",
              "    )\n",
              "    (encoder): BertEncoder(\n",
              "      (layer): ModuleList(\n",
              "        (0-11): 12 x BertLayer(\n",
              "          (attention): BertAttention(\n",
              "            (self): BertSdpaSelfAttention(\n",
              "              (query): Linear(in_features=768, out_features=768, bias=True)\n",
              "              (key): Linear(in_features=768, out_features=768, bias=True)\n",
              "              (value): Linear(in_features=768, out_features=768, bias=True)\n",
              "              (dropout): Dropout(p=0.1, inplace=False)\n",
              "            )\n",
              "            (output): BertSelfOutput(\n",
              "              (dense): Linear(in_features=768, out_features=768, bias=True)\n",
              "              (LayerNorm): LayerNorm((768,), eps=1e-12, elementwise_affine=True)\n",
              "              (dropout): Dropout(p=0.1, inplace=False)\n",
              "            )\n",
              "          )\n",
              "          (intermediate): BertIntermediate(\n",
              "            (dense): Linear(in_features=768, out_features=3072, bias=True)\n",
              "            (intermediate_act_fn): GELUActivation()\n",
              "          )\n",
              "          (output): BertOutput(\n",
              "            (dense): Linear(in_features=3072, out_features=768, bias=True)\n",
              "            (LayerNorm): LayerNorm((768,), eps=1e-12, elementwise_affine=True)\n",
              "            (dropout): Dropout(p=0.1, inplace=False)\n",
              "          )\n",
              "        )\n",
              "      )\n",
              "    )\n",
              "    (pooler): BertPooler(\n",
              "      (dense): Linear(in_features=768, out_features=768, bias=True)\n",
              "      (activation): Tanh()\n",
              "    )\n",
              "  )\n",
              "  (dropout): Dropout(p=0.1, inplace=False)\n",
              "  (classifier): Linear(in_features=768, out_features=27, bias=True)\n",
              ")"
            ]
          },
          "metadata": {},
          "execution_count": 32
        }
      ],
      "execution_count": null,
      "source": [
        "model_27 = BertForSequenceClassification.from_pretrained(\n",
        "    MODEL_NAME,\n",
        "    num_labels=27,\n",
        "    problem_type=\"multi_label_classification\"\n",
        ")\n",
        "model_27.to(device)"
      ],
      "id": "21fdf5a616bac644"
    },
    {
      "metadata": {
        "id": "80966fa4785e5f97"
      },
      "cell_type": "markdown",
      "source": [
        "#### Séparation des données en train, validation et test"
      ],
      "id": "80966fa4785e5f97"
    },
    {
      "metadata": {
        "id": "420d7695d84bb75"
      },
      "cell_type": "code",
      "outputs": [],
      "execution_count": null,
      "source": [
        "X_train, X_test, y_train, y_test = train_test_split(\n",
        "    texts, y_emotions,\n",
        "    test_size=0.2,\n",
        "    random_state=42\n",
        ")\n",
        "\n",
        "X_train, X_val, y_train, y_val = train_test_split(\n",
        "    X_train, y_train,\n",
        "    test_size=0.2,\n",
        "    random_state=42\n",
        ")"
      ],
      "id": "420d7695d84bb75"
    },
    {
      "metadata": {
        "colab": {
          "base_uri": "https://localhost:8080/"
        },
        "id": "b68f2feece429959",
        "outputId": "693d0bda-02bc-408c-e0e8-bb30ecf16872"
      },
      "cell_type": "code",
      "outputs": [
        {
          "output_type": "stream",
          "name": "stdout",
          "text": [
            "Train: 29632\n",
            "Validation: 7409\n",
            "Test: 9261\n"
          ]
        }
      ],
      "execution_count": null,
      "source": [
        "print(f\"Train: {len(X_train)}\")\n",
        "print(f\"Validation: {len(X_val)}\")\n",
        "print(f\"Test: {len(X_test)}\")"
      ],
      "id": "b68f2feece429959"
    },
    {
      "metadata": {
        "colab": {
          "base_uri": "https://localhost:8080/",
          "height": 536
        },
        "id": "ced177593b02f968",
        "outputId": "04015aad-a500-4d13-9ebd-3a04157c7a19"
      },
      "cell_type": "code",
      "outputs": [
        {
          "output_type": "display_data",
          "data": {
            "text/plain": [
              "<Figure size 1600x600 with 2 Axes>"
            ],
            "image/png": "[encoded data removed]"
          },
          "metadata": {}
        }
      ],
      "execution_count": null,
      "source": [
        "def plot_emotions_distribution(y, title, emotion_labels):\n",
        "    emotions_count = np.sum(y, axis=0)\n",
        "\n",
        "    plt.figure(figsize=(16, 6))\n",
        "\n",
        "    # Graphique en barres\n",
        "    plt.subplot(1, 2, 1)\n",
        "    plt.barh(emotion_labels, emotions_count, color='skyblue')\n",
        "    plt.xlabel('Number of Samples')\n",
        "    plt.title(f'{title} - Bar Chart')\n",
        "\n",
        "    # Camembert\n",
        "    plt.subplot(1, 2, 2)\n",
        "    plt.pie(emotions_count,\n",
        "            labels=emotion_labels,\n",
        "            autopct='%1.1f%%',\n",
        "            startangle=90)\n",
        "    plt.title(f'{title} - Pie Chart')\n",
        "    plt.axis('equal')\n",
        "\n",
        "    plt.tight_layout()\n",
        "    plt.show()\n",
        "\n",
        "\n",
        "plot_emotions_distribution(y_train, \"Train Emotions Distribution (27 emotions)\", emotion_cols_no_neutral)"
      ],
      "id": "ced177593b02f968"
    },
    {
      "metadata": {
        "id": "48d7fb09ce016252"
      },
      "cell_type": "code",
      "outputs": [],
      "execution_count": null,
      "source": [
        "train_encodings = tokenizer(X_train, truncation=True, padding='max_length', max_length=128, return_tensors='pt')\n",
        "val_encodings = tokenizer(X_val, truncation=True, padding='max_length', max_length=128, return_tensors='pt')"
      ],
      "id": "48d7fb09ce016252"
    },
    {
      "metadata": {
        "id": "e1764d7c85e66108"
      },
      "cell_type": "code",
      "outputs": [],
      "execution_count": null,
      "source": [
        "train_dataset = Dataset.from_dict({\n",
        "    'input_ids': train_encodings['input_ids'],\n",
        "    'attention_mask': train_encodings['attention_mask'],\n",
        "    'labels': torch.tensor(y_train, dtype=torch.float)\n",
        "})\n",
        "\n",
        "val_dataset = Dataset.from_dict({\n",
        "    'input_ids': val_encodings['input_ids'],\n",
        "    'attention_mask': val_encodings['attention_mask'],\n",
        "    'labels': torch.tensor(y_val, dtype=torch.float)\n",
        "})"
      ],
      "id": "e1764d7c85e66108"
    },
    {
      "metadata": {
        "id": "123422deefe0328d"
      },
      "cell_type": "code",
      "outputs": [],
      "execution_count": null,
      "source": [
        "training_args = TrainingArguments(\n",
        "    output_dir='./results',\n",
        "    run_name='bert-emotions',\n",
        "    num_train_epochs=NUM_EPOCHS,\n",
        "    per_device_train_batch_size=BATCH_SIZE,\n",
        "    per_device_eval_batch_size=BATCH_SIZE,\n",
        "    learning_rate=LEARNING_RATE,\n",
        "    weight_decay=0.01,\n",
        "\n",
        "    fp16=True,\n",
        "    dataloader_num_workers=2,\n",
        "    dataloader_pin_memory=True,\n",
        "\n",
        "    logging_steps=200,\n",
        "    eval_strategy=\"epoch\",\n",
        "    save_strategy=\"epoch\",\n",
        "    save_total_limit=2,\n",
        "\n",
        "    load_best_model_at_end=True,\n",
        "    report_to=[]\n",
        ")"
      ],
      "id": "123422deefe0328d"
    },
    {
      "metadata": {
        "id": "1eb3de4d6f96a83e"
      },
      "cell_type": "code",
      "outputs": [],
      "execution_count": null,
      "source": [
        "trainer_27 = Trainer(\n",
        "    model=model_27,\n",
        "    args=training_args,\n",
        "    train_dataset=train_dataset,\n",
        "    eval_dataset=val_dataset,\n",
        "    compute_metrics=lambda eval_pred: compute_metrics_detailed(eval_pred, emotion_cols_no_neutral)\n",
        ")"
      ],
      "id": "1eb3de4d6f96a83e"
    },
    {
      "metadata": {
        "colab": {
          "base_uri": "https://localhost:8080/",
          "height": 243
        },
        "id": "b8e5b714f1332890",
        "outputId": "69a282ac-5f6a-42a7-f2e9-3d7777e9a382"
      },
      "cell_type": "code",
      "outputs": [
        {
          "output_type": "stream",
          "name": "stdout",
          "text": [
            "🚀 Début du fine-tuning...\n"
          ]
        },
        {
          "output_type": "display_data",
          "data": {
            "text/plain": [
              "<IPython.core.display.HTML object>"
            ],
            "text/html": [
              "\n",
              "    <div>\n",
              "      \n",
              "      <progress value='11112' max='11112' style='width:300px; height:20px; vertical-align: middle;'></progress>\n",
              "      [11112/11112 09:42, Epoch 3/3]\n",
              "    </div>\n",
              "    <table border=\"1\" class=\"dataframe\">\n",
              "  <thead>\n",
              " <tr style=\"text-align: left;\">\n",
              "      <th>Epoch</th>\n",
              "      <th>Training Loss</th>\n",
              "      <th>Validation Loss</th>\n",
              "      <th>F1 Micro</th>\n",
              "      <th>F1 Macro</th>\n",
              "      <th>F1 Weighted</th>\n",
              "      <th>F1 Samples</th>\n",
              "      <th>Precision Micro</th>\n",
              "      <th>Precision Macro</th>\n",
              "      <th>Recall Micro</th>\n",
              "      <th>Recall Macro</th>\n",
              "      <th>Exact Match</th>\n",
              "      <th>F1 Admiration</th>\n",
              "      <th>Precision Admiration</th>\n",
              "      <th>Recall Admiration</th>\n",
              "      <th>F1 Amusement</th>\n",
              "      <th>Precision Amusement</th>\n",
              "      <th>Recall Amusement</th>\n",
              "      <th>F1 Anger</th>\n",
              "      <th>Precision Anger</th>\n",
              "      <th>Recall Anger</th>\n",
              "      <th>F1 Annoyance</th>\n",
              "      <th>Precision Annoyance</th>\n",
              "      <th>Recall Annoyance</th>\n",
              "      <th>F1 Approval</th>\n",
              "      <th>Precision Approval</th>\n",
              "      <th>Recall Approval</th>\n",
              "      <th>F1 Caring</th>\n",
              "      <th>Precision Caring</th>\n",
              "      <th>Recall Caring</th>\n",
              "      <th>F1 Confusion</th>\n",
              "      <th>Precision Confusion</th>\n",
              "      <th>Recall Confusion</th>\n",
              "      <th>F1 Curiosity</th>\n",
              "      <th>Precision Curiosity</th>\n",
              "      <th>Recall Curiosity</th>\n",
              "      <th>F1 Desire</th>\n",
              "      <th>Precision Desire</th>\n",
              "      <th>Recall Desire</th>\n",
              "      <th>F1 Disappointment</th>\n",
              "      <th>Precision Disappointment</th>\n",
              "      <th>Recall Disappointment</th>\n",
              "      <th>F1 Disapproval</th>\n",
              "      <th>Precision Disapproval</th>\n",
              "      <th>Recall Disapproval</th>\n",
              "      <th>F1 Disgust</th>\n",
              "      <th>Precision Disgust</th>\n",
              "      <th>Recall Disgust</th>\n",
              "      <th>F1 Embarrassment</th>\n",
              "      <th>Precision Embarrassment</th>\n",
              "      <th>Recall Embarrassment</th>\n",
              "      <th>F1 Excitement</th>\n",
              "      <th>Precision Excitement</th>\n",
              "      <th>Recall Excitement</th>\n",
              "      <th>F1 Fear</th>\n",
              "      <th>Precision Fear</th>\n",
              "      <th>Recall Fear</th>\n",
              "      <th>F1 Gratitude</th>\n",
              "      <th>Precision Gratitude</th>\n",
              "      <th>Recall Gratitude</th>\n",
              "      <th>F1 Grief</th>\n",
              "      <th>Precision Grief</th>\n",
              "      <th>Recall Grief</th>\n",
              "      <th>F1 Joy</th>\n",
              "      <th>Precision Joy</th>\n",
              "      <th>Recall Joy</th>\n",
              "      <th>F1 Love</th>\n",
              "      <th>Precision Love</th>\n",
              "      <th>Recall Love</th>\n",
              "      <th>F1 Nervousness</th>\n",
              "      <th>Precision Nervousness</th>\n",
              "      <th>Recall Nervousness</th>\n",
              "      <th>F1 Optimism</th>\n",
              "      <th>Precision Optimism</th>\n",
              "      <th>Recall Optimism</th>\n",
              "      <th>F1 Pride</th>\n",
              "      <th>Precision Pride</th>\n",
              "      <th>Recall Pride</th>\n",
              "      <th>F1 Realization</th>\n",
              "      <th>Precision Realization</th>\n",
              "      <th>Recall Realization</th>\n",
              "      <th>F1 Relief</th>\n",
              "      <th>Precision Relief</th>\n",
              "      <th>Recall Relief</th>\n",
              "      <th>F1 Remorse</th>\n",
              "      <th>Precision Remorse</th>\n",
              "      <th>Recall Remorse</th>\n",
              "      <th>F1 Sadness</th>\n",
              "      <th>Precision Sadness</th>\n",
              "      <th>Recall Sadness</th>\n",
              "      <th>F1 Surprise</th>\n",
              "      <th>Precision Surprise</th>\n",
              "      <th>Recall Surprise</th>\n",
              "    </tr>\n",
              "  </thead>\n",
              "  <tbody>\n",
              "    <tr>\n",
              "      <td>1</td>\n",
              "      <td>0.112400</td>\n",
              "      <td>0.111736</td>\n",
              "      <td>0.478168</td>\n",
              "      <td>0.284273</td>\n",
              "      <td>0.404164</td>\n",
              "      <td>0.400846</td>\n",
              "      <td>0.735030</td>\n",
              "      <td>0.440264</td>\n",
              "      <td>0.354341</td>\n",
              "      <td>0.243913</td>\n",
              "      <td>0.325280</td>\n",
              "      <td>0.719424</td>\n",
              "      <td>0.772201</td>\n",
              "      <td>0.673401</td>\n",
              "      <td>0.794466</td>\n",
              "      <td>0.822086</td>\n",
              "      <td>0.768642</td>\n",
              "      <td>0.483453</td>\n",
              "      <td>0.591549</td>\n",
              "      <td>0.408759</td>\n",
              "      <td>0.000000</td>\n",
              "      <td>0.000000</td>\n",
              "      <td>0.000000</td>\n",
              "      <td>0.329393</td>\n",
              "      <td>0.645062</td>\n",
              "      <td>0.221164</td>\n",
              "      <td>0.220238</td>\n",
              "      <td>0.672727</td>\n",
              "      <td>0.131673</td>\n",
              "      <td>0.214953</td>\n",
              "      <td>0.836364</td>\n",
              "      <td>0.123324</td>\n",
              "      <td>0.633663</td>\n",
              "      <td>0.608997</td>\n",
              "      <td>0.660413</td>\n",
              "      <td>0.239583</td>\n",
              "      <td>0.741935</td>\n",
              "      <td>0.142857</td>\n",
              "      <td>0.000000</td>\n",
              "      <td>0.000000</td>\n",
              "      <td>0.000000</td>\n",
              "      <td>0.461860</td>\n",
              "      <td>0.669697</td>\n",
              "      <td>0.352472</td>\n",
              "      <td>0.000000</td>\n",
              "      <td>0.000000</td>\n",
              "      <td>0.000000</td>\n",
              "      <td>0.000000</td>\n",
              "      <td>0.000000</td>\n",
              "      <td>0.000000</td>\n",
              "      <td>0.039062</td>\n",
              "      <td>1.000000</td>\n",
              "      <td>0.019920</td>\n",
              "      <td>0.000000</td>\n",
              "      <td>0.000000</td>\n",
              "      <td>0.000000</td>\n",
              "      <td>0.875240</td>\n",
              "      <td>0.892368</td>\n",
              "      <td>0.858757</td>\n",
              "      <td>0.000000</td>\n",
              "      <td>0.000000</td>\n",
              "      <td>0.000000</td>\n",
              "      <td>0.445808</td>\n",
              "      <td>0.694268</td>\n",
              "      <td>0.328313</td>\n",
              "      <td>0.831285</td>\n",
              "      <td>0.803456</td>\n",
              "      <td>0.861111</td>\n",
              "      <td>0.000000</td>\n",
              "      <td>0.000000</td>\n",
              "      <td>0.000000</td>\n",
              "      <td>0.500745</td>\n",
              "      <td>0.672000</td>\n",
              "      <td>0.399050</td>\n",
              "      <td>0.000000</td>\n",
              "      <td>0.000000</td>\n",
              "      <td>0.000000</td>\n",
              "      <td>0.000000</td>\n",
              "      <td>0.000000</td>\n",
              "      <td>0.000000</td>\n",
              "      <td>0.000000</td>\n",
              "      <td>0.000000</td>\n",
              "      <td>0.000000</td>\n",
              "      <td>0.000000</td>\n",
              "      <td>0.000000</td>\n",
              "      <td>0.000000</td>\n",
              "      <td>0.443396</td>\n",
              "      <td>0.758065</td>\n",
              "      <td>0.313333</td>\n",
              "      <td>0.442786</td>\n",
              "      <td>0.706349</td>\n",
              "      <td>0.322464</td>\n",
              "    </tr>\n",
              "    <tr>\n",
              "      <td>2</td>\n",
              "      <td>0.094500</td>\n",
              "      <td>0.105628</td>\n",
              "      <td>0.521828</td>\n",
              "      <td>0.378670</td>\n",
              "      <td>0.474979</td>\n",
              "      <td>0.460966</td>\n",
              "      <td>0.726912</td>\n",
              "      <td>0.566353</td>\n",
              "      <td>0.407000</td>\n",
              "      <td>0.316769</td>\n",
              "      <td>0.375489</td>\n",
              "      <td>0.727380</td>\n",
              "      <td>0.763255</td>\n",
              "      <td>0.694725</td>\n",
              "      <td>0.791296</td>\n",
              "      <td>0.819672</td>\n",
              "      <td>0.764818</td>\n",
              "      <td>0.492260</td>\n",
              "      <td>0.676596</td>\n",
              "      <td>0.386861</td>\n",
              "      <td>0.176471</td>\n",
              "      <td>0.584746</td>\n",
              "      <td>0.103916</td>\n",
              "      <td>0.408309</td>\n",
              "      <td>0.631929</td>\n",
              "      <td>0.301587</td>\n",
              "      <td>0.440980</td>\n",
              "      <td>0.589286</td>\n",
              "      <td>0.352313</td>\n",
              "      <td>0.373281</td>\n",
              "      <td>0.698529</td>\n",
              "      <td>0.254692</td>\n",
              "      <td>0.643939</td>\n",
              "      <td>0.650096</td>\n",
              "      <td>0.637899</td>\n",
              "      <td>0.406504</td>\n",
              "      <td>0.588235</td>\n",
              "      <td>0.310559</td>\n",
              "      <td>0.043011</td>\n",
              "      <td>0.615385</td>\n",
              "      <td>0.022284</td>\n",
              "      <td>0.431203</td>\n",
              "      <td>0.672297</td>\n",
              "      <td>0.317384</td>\n",
              "      <td>0.191667</td>\n",
              "      <td>0.793103</td>\n",
              "      <td>0.109005</td>\n",
              "      <td>0.000000</td>\n",
              "      <td>0.000000</td>\n",
              "      <td>0.000000</td>\n",
              "      <td>0.246667</td>\n",
              "      <td>0.755102</td>\n",
              "      <td>0.147410</td>\n",
              "      <td>0.512195</td>\n",
              "      <td>0.692308</td>\n",
              "      <td>0.406452</td>\n",
              "      <td>0.897016</td>\n",
              "      <td>0.917323</td>\n",
              "      <td>0.877589</td>\n",
              "      <td>0.000000</td>\n",
              "      <td>0.000000</td>\n",
              "      <td>0.000000</td>\n",
              "      <td>0.494424</td>\n",
              "      <td>0.645631</td>\n",
              "      <td>0.400602</td>\n",
              "      <td>0.823256</td>\n",
              "      <td>0.827103</td>\n",
              "      <td>0.819444</td>\n",
              "      <td>0.000000</td>\n",
              "      <td>0.000000</td>\n",
              "      <td>0.000000</td>\n",
              "      <td>0.489097</td>\n",
              "      <td>0.710407</td>\n",
              "      <td>0.372922</td>\n",
              "      <td>0.000000</td>\n",
              "      <td>0.000000</td>\n",
              "      <td>0.000000</td>\n",
              "      <td>0.102128</td>\n",
              "      <td>0.585366</td>\n",
              "      <td>0.055944</td>\n",
              "      <td>0.000000</td>\n",
              "      <td>0.000000</td>\n",
              "      <td>0.000000</td>\n",
              "      <td>0.554217</td>\n",
              "      <td>0.741935</td>\n",
              "      <td>0.442308</td>\n",
              "      <td>0.483471</td>\n",
              "      <td>0.635870</td>\n",
              "      <td>0.390000</td>\n",
              "      <td>0.495327</td>\n",
              "      <td>0.697368</td>\n",
              "      <td>0.384058</td>\n",
              "    </tr>\n",
              "    <tr>\n",
              "      <td>3</td>\n",
              "      <td>0.081600</td>\n",
              "      <td>0.105476</td>\n",
              "      <td>0.541821</td>\n",
              "      <td>0.424627</td>\n",
              "      <td>0.511240</td>\n",
              "      <td>0.500675</td>\n",
              "      <td>0.687023</td>\n",
              "      <td>0.570717</td>\n",
              "      <td>0.447288</td>\n",
              "      <td>0.363732</td>\n",
              "      <td>0.401674</td>\n",
              "      <td>0.725352</td>\n",
              "      <td>0.760148</td>\n",
              "      <td>0.693603</td>\n",
              "      <td>0.787575</td>\n",
              "      <td>0.827368</td>\n",
              "      <td>0.751434</td>\n",
              "      <td>0.529570</td>\n",
              "      <td>0.591592</td>\n",
              "      <td>0.479319</td>\n",
              "      <td>0.267974</td>\n",
              "      <td>0.484252</td>\n",
              "      <td>0.185241</td>\n",
              "      <td>0.438120</td>\n",
              "      <td>0.584806</td>\n",
              "      <td>0.350265</td>\n",
              "      <td>0.448000</td>\n",
              "      <td>0.511416</td>\n",
              "      <td>0.398577</td>\n",
              "      <td>0.432916</td>\n",
              "      <td>0.650538</td>\n",
              "      <td>0.324397</td>\n",
              "      <td>0.638380</td>\n",
              "      <td>0.656746</td>\n",
              "      <td>0.621013</td>\n",
              "      <td>0.463320</td>\n",
              "      <td>0.612245</td>\n",
              "      <td>0.372671</td>\n",
              "      <td>0.212190</td>\n",
              "      <td>0.559524</td>\n",
              "      <td>0.130919</td>\n",
              "      <td>0.470925</td>\n",
              "      <td>0.585308</td>\n",
              "      <td>0.393939</td>\n",
              "      <td>0.352113</td>\n",
              "      <td>0.684932</td>\n",
              "      <td>0.236967</td>\n",
              "      <td>0.295455</td>\n",
              "      <td>1.000000</td>\n",
              "      <td>0.173333</td>\n",
              "      <td>0.306748</td>\n",
              "      <td>0.666667</td>\n",
              "      <td>0.199203</td>\n",
              "      <td>0.525097</td>\n",
              "      <td>0.653846</td>\n",
              "      <td>0.438710</td>\n",
              "      <td>0.899225</td>\n",
              "      <td>0.926148</td>\n",
              "      <td>0.873823</td>\n",
              "      <td>0.000000</td>\n",
              "      <td>0.000000</td>\n",
              "      <td>0.000000</td>\n",
              "      <td>0.496324</td>\n",
              "      <td>0.636792</td>\n",
              "      <td>0.406627</td>\n",
              "      <td>0.826484</td>\n",
              "      <td>0.815315</td>\n",
              "      <td>0.837963</td>\n",
              "      <td>0.000000</td>\n",
              "      <td>0.000000</td>\n",
              "      <td>0.000000</td>\n",
              "      <td>0.486486</td>\n",
              "      <td>0.735577</td>\n",
              "      <td>0.363420</td>\n",
              "      <td>0.000000</td>\n",
              "      <td>0.000000</td>\n",
              "      <td>0.000000</td>\n",
              "      <td>0.165703</td>\n",
              "      <td>0.477778</td>\n",
              "      <td>0.100233</td>\n",
              "      <td>0.000000</td>\n",
              "      <td>0.000000</td>\n",
              "      <td>0.000000</td>\n",
              "      <td>0.680412</td>\n",
              "      <td>0.733333</td>\n",
              "      <td>0.634615</td>\n",
              "      <td>0.498039</td>\n",
              "      <td>0.604762</td>\n",
              "      <td>0.423333</td>\n",
              "      <td>0.518519</td>\n",
              "      <td>0.650273</td>\n",
              "      <td>0.431159</td>\n",
              "    </tr>\n",
              "  </tbody>\n",
              "</table><p>"
            ]
          },
          "metadata": {}
        },
        {
          "output_type": "stream",
          "name": "stdout",
          "text": [
            "✅ Fine-tuning terminé!\n"
          ]
        }
      ],
      "execution_count": null,
      "source": [
        "# FINE-TUNING\n",
        "print(\"🚀 Début du fine-tuning...\")\n",
        "trainer_27.train()\n",
        "print(\"✅ Fine-tuning terminé!\")"
      ],
      "id": "b8e5b714f1332890"
    },
    {
      "metadata": {
        "colab": {
          "base_uri": "https://localhost:8080/",
          "height": 88
        },
        "id": "b8b5d8ccc037dab7",
        "outputId": "511942ed-1880-4a41-a1ce-20abe140e28e"
      },
      "cell_type": "code",
      "outputs": [
        {
          "output_type": "stream",
          "name": "stdout",
          "text": [
            "💾 Sauvegarde du modèle...\n",
            "📦 Création de l'archive...\n",
            "⬇️ Téléchargement en cours...\n"
          ]
        },
        {
          "output_type": "display_data",
          "data": {
            "text/plain": [
              "<IPython.core.display.Javascript object>"
            ],
            "application/javascript": [
              "\n",
              "    async function download(id, filename, size) {\n",
              "      if (!google.colab.kernel.accessAllowed) {\n",
              "        return;\n",
              "      }\n",
              "      const div = document.createElement('div');\n",
              "      const label = document.createElement('label');\n",
              "      label.textContent = `Downloading \"${filename}\": `;\n",
              "      div.appendChild(label);\n",
              "      const progress = document.createElement('progress');\n",
              "      progress.max = size;\n",
              "      div.appendChild(progress);\n",
              "      document.body.appendChild(div);\n",
              "\n",
              "      const buffers = [];\n",
              "      let downloaded = 0;\n",
              "\n",
              "      const channel = await google.colab.kernel.comms.open(id);\n",
              "      // Send a message to notify the kernel that we're ready.\n",
              "      channel.send({})\n",
              "\n",
              "      for await (const message of channel.messages) {\n",
              "        // Send a message to notify the kernel that we're ready.\n",
              "        channel.send({})\n",
              "        if (message.buffers) {\n",
              "          for (const buffer of message.buffers) {\n",
              "            buffers.push(buffer);\n",
              "            downloaded += buffer.byteLength;\n",
              "            progress.value = downloaded;\n",
              "          }\n",
              "        }\n",
              "      }\n",
              "      const blob = new Blob(buffers, {type: 'application/binary'});\n",
              "      const a = document.createElement('a');\n",
              "      a.href = window.URL.createObjectURL(blob);\n",
              "      a.download = filename;\n",
              "      div.appendChild(a);\n",
              "      a.click();\n",
              "      div.remove();\n",
              "    }\n",
              "  "
            ]
          },
          "metadata": {}
        },
        {
          "output_type": "display_data",
          "data": {
            "text/plain": [
              "<IPython.core.display.Javascript object>"
            ],
            "application/javascript": [
              "download(\"download_ec0427e0-d62c-4853-953d-6742ce0d697a\", \"bert_emotions_27.zip\", 405768096)"
            ]
          },
          "metadata": {}
        }
      ],
      "execution_count": null,
      "source": [
        "save_and_download_model(trainer_27, tokenizer, \"bert_emotions_27\")"
      ],
      "id": "b8b5d8ccc037dab7"
    },
    {
      "metadata": {
        "id": "7d8b46a6a19040ce"
      },
      "cell_type": "code",
      "outputs": [],
      "execution_count": null,
      "source": [
        "test_encodings = tokenizer(X_test, truncation=True, padding='max_length', max_length=128, return_tensors='pt')\n",
        "test_dataset = Dataset.from_dict({\n",
        "    'input_ids': test_encodings['input_ids'],\n",
        "    'attention_mask': test_encodings['attention_mask'],\n",
        "    'labels': torch.tensor(y_test, dtype=torch.float)\n",
        "})"
      ],
      "id": "7d8b46a6a19040ce"
    },
    {
      "metadata": {
        "id": "e3656a90e018d27e"
      },
      "cell_type": "markdown",
      "source": [
        "### Résultats sur les 27 émotions"
      ],
      "id": "e3656a90e018d27e"
    },
    {
      "metadata": {
        "colab": {
          "base_uri": "https://localhost:8080/",
          "height": 91
        },
        "id": "795ffcb19a522e50",
        "outputId": "2624d36c-fb58-436f-f3bc-2be2dd6f5a28"
      },
      "cell_type": "code",
      "outputs": [
        {
          "output_type": "display_data",
          "data": {
            "text/plain": [
              "<IPython.core.display.HTML object>"
            ],
            "text/html": [
              "\n",
              "    <div>\n",
              "      \n",
              "      <progress value='1158' max='1158' style='width:300px; height:20px; vertical-align: middle;'></progress>\n",
              "      [1158/1158 00:16]\n",
              "    </div>\n",
              "    "
            ]
          },
          "metadata": {}
        },
        {
          "output_type": "stream",
          "name": "stdout",
          "text": [
            "F1-micro: 0.5533\n",
            "F1-macro: 0.4314\n",
            "F1-weighted: 0.5223\n"
          ]
        }
      ],
      "execution_count": null,
      "source": [
        "test_results_27 = trainer_27.evaluate(test_dataset)\n",
        "print(f\"F1-micro: {test_results_27['eval_f1_micro']:.4f}\")\n",
        "print(f\"F1-macro: {test_results_27['eval_f1_macro']:.4f}\")\n",
        "print(f\"F1-weighted: {test_results_27['eval_f1_weighted']:.4f}\")"
      ],
      "id": "795ffcb19a522e50"
    },
    {
      "metadata": {
        "colab": {
          "base_uri": "https://localhost:8080/"
        },
        "id": "c78834f715eac6d0",
        "outputId": "ec948548-bebf-4d00-f4b4-36a0432595b5"
      },
      "cell_type": "code",
      "outputs": [
        {
          "output_type": "stream",
          "name": "stdout",
          "text": [
            "\n",
            "📊 Échantillon F1-Score par émotion:\n",
            "admiration: 0.7355\n",
            " amusement: 0.8164\n",
            "     anger: 0.4874\n",
            " annoyance: 0.2652\n",
            "  approval: 0.4427\n",
            "    caring: 0.4796\n",
            " confusion: 0.4432\n",
            " curiosity: 0.6629\n",
            "    desire: 0.4916\n",
            "disappointment: 0.1846\n",
            "disapproval: 0.4618\n",
            "   disgust: 0.3287\n",
            "embarrassment: 0.3130\n",
            "excitement: 0.2857\n",
            "      fear: 0.6250\n",
            " gratitude: 0.8951\n",
            "     grief: 0.0000\n",
            "       joy: 0.5368\n",
            "      love: 0.8049\n",
            "nervousness: 0.0000\n",
            "  optimism: 0.5174\n",
            "     pride: 0.0000\n",
            "realization: 0.1752\n",
            "    relief: 0.0000\n",
            "   remorse: 0.5969\n",
            "   sadness: 0.5032\n",
            "  surprise: 0.5959\n"
          ]
        }
      ],
      "execution_count": null,
      "source": [
        "print(f\"\\n📊 Échantillon F1-Score par émotion:\")\n",
        "for emotion in emotion_cols_no_neutral:\n",
        "    f1 = test_results_27.get(f'eval_f1_{emotion}', 0)\n",
        "    print(f\"{emotion:>10}: {f1:.4f}\")"
      ],
      "id": "c78834f715eac6d0"
    },
    {
      "metadata": {
        "id": "d570418fb68adc5f"
      },
      "cell_type": "markdown",
      "source": [
        "### Entrainement sur les 6 émotions"
      ],
      "id": "d570418fb68adc5f"
    },
    {
      "metadata": {
        "id": "e636f09276ad9984"
      },
      "cell_type": "code",
      "outputs": [],
      "execution_count": null,
      "source": [
        "texts = df_6_emotions['text'].tolist()\n",
        "y_emotions = df_6_emotions[emotion_cols_ekman].values"
      ],
      "id": "e636f09276ad9984"
    },
    {
      "metadata": {
        "colab": {
          "base_uri": "https://localhost:8080/"
        },
        "id": "eb4a76f04367c349",
        "outputId": "ed124fd7-f681-48d7-d08a-4b23cc49a78b"
      },
      "cell_type": "code",
      "outputs": [
        {
          "output_type": "stream",
          "name": "stderr",
          "text": [
            "Some weights of BertForSequenceClassification were not initialized from the model checkpoint at bert-base-uncased and are newly initialized: ['classifier.bias', 'classifier.weight']\n",
            "You should probably TRAIN this model on a down-stream task to be able to use it for predictions and inference.\n"
          ]
        },
        {
          "output_type": "execute_result",
          "data": {
            "text/plain": [
              "BertForSequenceClassification(\n",
              "  (bert): BertModel(\n",
              "    (embeddings): BertEmbeddings(\n",
              "      (word_embeddings): Embedding(30522, 768, padding_idx=0)\n",
              "      (position_embeddings): Embedding(512, 768)\n",
              "      (token_type_embeddings): Embedding(2, 768)\n",
              "      (LayerNorm): LayerNorm((768,), eps=1e-12, elementwise_affine=True)\n",
              "      (dropout): Dropout(p=0.1, inplace=False)\n",
              "    )\n",
              "    (encoder): BertEncoder(\n",
              "      (layer): ModuleList(\n",
              "        (0-11): 12 x BertLayer(\n",
              "          (attention): BertAttention(\n",
              "            (self): BertSdpaSelfAttention(\n",
              "              (query): Linear(in_features=768, out_features=768, bias=True)\n",
              "              (key): Linear(in_features=768, out_features=768, bias=True)\n",
              "              (value): Linear(in_features=768, out_features=768, bias=True)\n",
              "              (dropout): Dropout(p=0.1, inplace=False)\n",
              "            )\n",
              "            (output): BertSelfOutput(\n",
              "              (dense): Linear(in_features=768, out_features=768, bias=True)\n",
              "              (LayerNorm): LayerNorm((768,), eps=1e-12, elementwise_affine=True)\n",
              "              (dropout): Dropout(p=0.1, inplace=False)\n",
              "            )\n",
              "          )\n",
              "          (intermediate): BertIntermediate(\n",
              "            (dense): Linear(in_features=768, out_features=3072, bias=True)\n",
              "            (intermediate_act_fn): GELUActivation()\n",
              "          )\n",
              "          (output): BertOutput(\n",
              "            (dense): Linear(in_features=3072, out_features=768, bias=True)\n",
              "            (LayerNorm): LayerNorm((768,), eps=1e-12, elementwise_affine=True)\n",
              "            (dropout): Dropout(p=0.1, inplace=False)\n",
              "          )\n",
              "        )\n",
              "      )\n",
              "    )\n",
              "    (pooler): BertPooler(\n",
              "      (dense): Linear(in_features=768, out_features=768, bias=True)\n",
              "      (activation): Tanh()\n",
              "    )\n",
              "  )\n",
              "  (dropout): Dropout(p=0.1, inplace=False)\n",
              "  (classifier): Linear(in_features=768, out_features=6, bias=True)\n",
              ")"
            ]
          },
          "metadata": {},
          "execution_count": 46
        }
      ],
      "execution_count": null,
      "source": [
        "model_6 = BertForSequenceClassification.from_pretrained(\n",
        "    MODEL_NAME,\n",
        "    num_labels=6,\n",
        "    problem_type=\"multi_label_classification\"\n",
        ")\n",
        "model_6.to(device)"
      ],
      "id": "eb4a76f04367c349"
    },
    {
      "metadata": {
        "id": "4bbf47dcc6b2ef65"
      },
      "cell_type": "code",
      "outputs": [],
      "execution_count": null,
      "source": [
        "X_train, X_test, y_train, y_test = train_test_split(\n",
        "    texts, y_emotions,\n",
        "    test_size=0.2,\n",
        "    random_state=42\n",
        ")\n",
        "\n",
        "# Split train/validation\n",
        "X_train, X_val, y_train, y_val = train_test_split(\n",
        "    X_train, y_train,\n",
        "    test_size=0.2,\n",
        "    random_state=42\n",
        ")"
      ],
      "id": "4bbf47dcc6b2ef65"
    },
    {
      "metadata": {
        "colab": {
          "base_uri": "https://localhost:8080/"
        },
        "id": "62082534666b0f88",
        "outputId": "0f8cdffd-3ff3-4734-f678-d72888803683"
      },
      "cell_type": "code",
      "outputs": [
        {
          "output_type": "stream",
          "name": "stdout",
          "text": [
            "Train: 6431\n",
            "Validation: 1608\n",
            "Test: 2010\n"
          ]
        }
      ],
      "execution_count": null,
      "source": [
        "print(f\"Train: {len(X_train)}\")\n",
        "print(f\"Validation: {len(X_val)}\")\n",
        "print(f\"Test: {len(X_test)}\")"
      ],
      "id": "62082534666b0f88"
    },
    {
      "metadata": {
        "colab": {
          "base_uri": "https://localhost:8080/",
          "height": 534
        },
        "id": "d7be7008315bf1bc",
        "outputId": "68c192e5-34dd-4096-8c0b-a8ee35e6b104"
      },
      "cell_type": "code",
      "outputs": [
        {
          "output_type": "display_data",
          "data": {
            "text/plain": [
              "<Figure size 1600x600 with 2 Axes>"
            ],
            "image/png": "[encoded data removed]"
          },
          "metadata": {}
        }
      ],
      "execution_count": null,
      "source": [
        "plot_emotions_distribution(y_train, \"Train Emotions Distribution (6 emotions)\", emotion_cols_ekman)"
      ],
      "id": "d7be7008315bf1bc"
    },
    {
      "metadata": {
        "id": "f129b8698a638fa6"
      },
      "cell_type": "code",
      "outputs": [],
      "execution_count": null,
      "source": [
        "train_encodings = tokenizer(X_train, truncation=True, padding='max_length', max_length=128, return_tensors='pt')\n",
        "val_encodings = tokenizer(X_val, truncation=True, padding='max_length', max_length=128, return_tensors='pt')"
      ],
      "id": "f129b8698a638fa6"
    },
    {
      "metadata": {
        "id": "6f558f8286451310"
      },
      "cell_type": "code",
      "outputs": [],
      "execution_count": null,
      "source": [
        "train_dataset = Dataset.from_dict({\n",
        "    'input_ids': train_encodings['input_ids'],\n",
        "    'attention_mask': train_encodings['attention_mask'],\n",
        "    'labels': torch.tensor(y_train, dtype=torch.float)\n",
        "})\n",
        "\n",
        "val_dataset = Dataset.from_dict({\n",
        "    'input_ids': val_encodings['input_ids'],\n",
        "    'attention_mask': val_encodings['attention_mask'],\n",
        "    'labels': torch.tensor(y_val, dtype=torch.float)\n",
        "})"
      ],
      "id": "6f558f8286451310"
    },
    {
      "metadata": {
        "id": "b0afebad19157340"
      },
      "cell_type": "code",
      "outputs": [],
      "execution_count": null,
      "source": [
        "training_args = TrainingArguments(\n",
        "    output_dir='./results',\n",
        "    run_name='bert-emotions',\n",
        "    num_train_epochs=NUM_EPOCHS,\n",
        "    per_device_train_batch_size=BATCH_SIZE,\n",
        "    per_device_eval_batch_size=BATCH_SIZE,\n",
        "    learning_rate=LEARNING_RATE,\n",
        "    weight_decay=0.01,\n",
        "\n",
        "    fp16=True,\n",
        "    dataloader_num_workers=2,\n",
        "    dataloader_pin_memory=True,\n",
        "\n",
        "    logging_steps=200,\n",
        "    eval_strategy=\"epoch\",\n",
        "    save_strategy=\"epoch\",\n",
        "    save_total_limit=2,\n",
        "\n",
        "    load_best_model_at_end=True,\n",
        "    report_to=[]\n",
        ")"
      ],
      "id": "b0afebad19157340"
    },
    {
      "metadata": {
        "id": "b6be2c7ef5ed0a5b"
      },
      "cell_type": "code",
      "outputs": [],
      "execution_count": null,
      "source": [
        "trainer_6 = Trainer(\n",
        "    model=model_6,\n",
        "    args=training_args,\n",
        "    train_dataset=train_dataset,\n",
        "    eval_dataset=val_dataset,\n",
        "    compute_metrics=lambda eval_pred: compute_metrics_detailed(eval_pred, emotion_cols_ekman)\n",
        ")"
      ],
      "id": "b6be2c7ef5ed0a5b"
    },
    {
      "metadata": {
        "colab": {
          "base_uri": "https://localhost:8080/",
          "height": 243
        },
        "id": "16246269441fda73",
        "outputId": "19b1bf3f-9be1-4604-f7ee-7f98acd5b4aa"
      },
      "cell_type": "code",
      "outputs": [
        {
          "output_type": "stream",
          "name": "stdout",
          "text": [
            "🚀 Début du fine-tuning...\n"
          ]
        },
        {
          "output_type": "display_data",
          "data": {
            "text/plain": [
              "<IPython.core.display.HTML object>"
            ],
            "text/html": [
              "\n",
              "    <div>\n",
              "      \n",
              "      <progress value='2412' max='2412' style='width:300px; height:20px; vertical-align: middle;'></progress>\n",
              "      [2412/2412 02:12, Epoch 3/3]\n",
              "    </div>\n",
              "    <table border=\"1\" class=\"dataframe\">\n",
              "  <thead>\n",
              " <tr style=\"text-align: left;\">\n",
              "      <th>Epoch</th>\n",
              "      <th>Training Loss</th>\n",
              "      <th>Validation Loss</th>\n",
              "      <th>F1 Micro</th>\n",
              "      <th>F1 Macro</th>\n",
              "      <th>F1 Weighted</th>\n",
              "      <th>F1 Samples</th>\n",
              "      <th>Precision Micro</th>\n",
              "      <th>Precision Macro</th>\n",
              "      <th>Recall Micro</th>\n",
              "      <th>Recall Macro</th>\n",
              "      <th>Exact Match</th>\n",
              "      <th>F1 Anger</th>\n",
              "      <th>Precision Anger</th>\n",
              "      <th>Recall Anger</th>\n",
              "      <th>F1 Disgust</th>\n",
              "      <th>Precision Disgust</th>\n",
              "      <th>Recall Disgust</th>\n",
              "      <th>F1 Fear</th>\n",
              "      <th>Precision Fear</th>\n",
              "      <th>Recall Fear</th>\n",
              "      <th>F1 Joy</th>\n",
              "      <th>Precision Joy</th>\n",
              "      <th>Recall Joy</th>\n",
              "      <th>F1 Sadness</th>\n",
              "      <th>Precision Sadness</th>\n",
              "      <th>Recall Sadness</th>\n",
              "      <th>F1 Surprise</th>\n",
              "      <th>Precision Surprise</th>\n",
              "      <th>Recall Surprise</th>\n",
              "    </tr>\n",
              "  </thead>\n",
              "  <tbody>\n",
              "    <tr>\n",
              "      <td>1</td>\n",
              "      <td>0.216400</td>\n",
              "      <td>0.208288</td>\n",
              "      <td>0.772756</td>\n",
              "      <td>0.742028</td>\n",
              "      <td>0.762863</td>\n",
              "      <td>0.745170</td>\n",
              "      <td>0.819716</td>\n",
              "      <td>0.824962</td>\n",
              "      <td>0.730885</td>\n",
              "      <td>0.695211</td>\n",
              "      <td>0.726368</td>\n",
              "      <td>0.769404</td>\n",
              "      <td>0.737069</td>\n",
              "      <td>0.804706</td>\n",
              "      <td>0.489933</td>\n",
              "      <td>0.768421</td>\n",
              "      <td>0.359606</td>\n",
              "      <td>0.678700</td>\n",
              "      <td>0.839286</td>\n",
              "      <td>0.569697</td>\n",
              "      <td>0.881789</td>\n",
              "      <td>0.904918</td>\n",
              "      <td>0.859813</td>\n",
              "      <td>0.797048</td>\n",
              "      <td>0.874494</td>\n",
              "      <td>0.732203</td>\n",
              "      <td>0.835294</td>\n",
              "      <td>0.825581</td>\n",
              "      <td>0.845238</td>\n",
              "    </tr>\n",
              "    <tr>\n",
              "      <td>2</td>\n",
              "      <td>0.167700</td>\n",
              "      <td>0.207721</td>\n",
              "      <td>0.776299</td>\n",
              "      <td>0.756085</td>\n",
              "      <td>0.770997</td>\n",
              "      <td>0.751389</td>\n",
              "      <td>0.819398</td>\n",
              "      <td>0.814384</td>\n",
              "      <td>0.737508</td>\n",
              "      <td>0.717332</td>\n",
              "      <td>0.733209</td>\n",
              "      <td>0.768116</td>\n",
              "      <td>0.789082</td>\n",
              "      <td>0.748235</td>\n",
              "      <td>0.557994</td>\n",
              "      <td>0.767241</td>\n",
              "      <td>0.438424</td>\n",
              "      <td>0.721854</td>\n",
              "      <td>0.795620</td>\n",
              "      <td>0.660606</td>\n",
              "      <td>0.878939</td>\n",
              "      <td>0.939716</td>\n",
              "      <td>0.825545</td>\n",
              "      <td>0.791594</td>\n",
              "      <td>0.818841</td>\n",
              "      <td>0.766102</td>\n",
              "      <td>0.818011</td>\n",
              "      <td>0.775801</td>\n",
              "      <td>0.865079</td>\n",
              "    </tr>\n",
              "    <tr>\n",
              "      <td>3</td>\n",
              "      <td>0.118300</td>\n",
              "      <td>0.213635</td>\n",
              "      <td>0.770957</td>\n",
              "      <td>0.755011</td>\n",
              "      <td>0.768135</td>\n",
              "      <td>0.756468</td>\n",
              "      <td>0.799096</td>\n",
              "      <td>0.786731</td>\n",
              "      <td>0.744732</td>\n",
              "      <td>0.728085</td>\n",
              "      <td>0.731965</td>\n",
              "      <td>0.748166</td>\n",
              "      <td>0.778626</td>\n",
              "      <td>0.720000</td>\n",
              "      <td>0.576923</td>\n",
              "      <td>0.652174</td>\n",
              "      <td>0.517241</td>\n",
              "      <td>0.710526</td>\n",
              "      <td>0.776978</td>\n",
              "      <td>0.654545</td>\n",
              "      <td>0.878357</td>\n",
              "      <td>0.891026</td>\n",
              "      <td>0.866044</td>\n",
              "      <td>0.798635</td>\n",
              "      <td>0.804124</td>\n",
              "      <td>0.793220</td>\n",
              "      <td>0.817460</td>\n",
              "      <td>0.817460</td>\n",
              "      <td>0.817460</td>\n",
              "    </tr>\n",
              "  </tbody>\n",
              "</table><p>"
            ]
          },
          "metadata": {}
        },
        {
          "output_type": "stream",
          "name": "stdout",
          "text": [
            "✅ Fine-tuning terminé!\n"
          ]
        }
      ],
      "execution_count": null,
      "source": [
        "# FINE-TUNING\n",
        "print(\"🚀 Début du fine-tuning...\")\n",
        "trainer_6.train()\n",
        "print(\"✅ Fine-tuning terminé!\")"
      ],
      "id": "16246269441fda73"
    },
    {
      "metadata": {
        "colab": {
          "base_uri": "https://localhost:8080/",
          "height": 88
        },
        "id": "74ac199f99c86de5",
        "outputId": "3f6bf794-c873-4a4c-c66d-bd2949f25d19"
      },
      "cell_type": "code",
      "outputs": [
        {
          "output_type": "stream",
          "name": "stdout",
          "text": [
            "💾 Sauvegarde du modèle...\n",
            "📦 Création de l'archive...\n",
            "⬇️ Téléchargement en cours...\n"
          ]
        },
        {
          "output_type": "display_data",
          "data": {
            "text/plain": [
              "<IPython.core.display.Javascript object>"
            ],
            "application/javascript": [
              "\n",
              "    async function download(id, filename, size) {\n",
              "      if (!google.colab.kernel.accessAllowed) {\n",
              "        return;\n",
              "      }\n",
              "      const div = document.createElement('div');\n",
              "      const label = document.createElement('label');\n",
              "      label.textContent = `Downloading \"${filename}\": `;\n",
              "      div.appendChild(label);\n",
              "      const progress = document.createElement('progress');\n",
              "      progress.max = size;\n",
              "      div.appendChild(progress);\n",
              "      document.body.appendChild(div);\n",
              "\n",
              "      const buffers = [];\n",
              "      let downloaded = 0;\n",
              "\n",
              "      const channel = await google.colab.kernel.comms.open(id);\n",
              "      // Send a message to notify the kernel that we're ready.\n",
              "      channel.send({})\n",
              "\n",
              "      for await (const message of channel.messages) {\n",
              "        // Send a message to notify the kernel that we're ready.\n",
              "        channel.send({})\n",
              "        if (message.buffers) {\n",
              "          for (const buffer of message.buffers) {\n",
              "            buffers.push(buffer);\n",
              "            downloaded += buffer.byteLength;\n",
              "            progress.value = downloaded;\n",
              "          }\n",
              "        }\n",
              "      }\n",
              "      const blob = new Blob(buffers, {type: 'application/binary'});\n",
              "      const a = document.createElement('a');\n",
              "      a.href = window.URL.createObjectURL(blob);\n",
              "      a.download = filename;\n",
              "      div.appendChild(a);\n",
              "      a.click();\n",
              "      div.remove();\n",
              "    }\n",
              "  "
            ]
          },
          "metadata": {}
        },
        {
          "output_type": "display_data",
          "data": {
            "text/plain": [
              "<IPython.core.display.Javascript object>"
            ],
            "application/javascript": [
              "download(\"download_03e8349d-57c1-4310-80cc-1bf31d80281a\", \"bert_emotions_6.zip\", 405708506)"
            ]
          },
          "metadata": {}
        }
      ],
      "execution_count": null,
      "source": [
        "save_and_download_model(trainer_6, tokenizer, \"bert_emotions_6\")"
      ],
      "id": "74ac199f99c86de5"
    },
    {
      "metadata": {
        "id": "1c5d749d21b4daad"
      },
      "cell_type": "code",
      "outputs": [],
      "execution_count": null,
      "source": [
        "test_encodings = tokenizer(X_test, truncation=True, padding='max_length', max_length=128, return_tensors='pt')\n",
        "test_dataset = Dataset.from_dict({\n",
        "    'input_ids': test_encodings['input_ids'],\n",
        "    'attention_mask': test_encodings['attention_mask'],\n",
        "    'labels': torch.tensor(y_test, dtype=torch.float)\n",
        "})"
      ],
      "id": "1c5d749d21b4daad"
    },
    {
      "metadata": {
        "id": "f89485509a6bf75e"
      },
      "cell_type": "markdown",
      "source": [
        "### Résultats sur les 6 émotions"
      ],
      "id": "f89485509a6bf75e"
    },
    {
      "metadata": {
        "colab": {
          "base_uri": "https://localhost:8080/",
          "height": 91
        },
        "id": "72c6ad89eee9f46c",
        "outputId": "22b32e18-8ec5-4997-a8ca-79edf4408c14"
      },
      "cell_type": "code",
      "outputs": [
        {
          "output_type": "display_data",
          "data": {
            "text/plain": [
              "<IPython.core.display.HTML object>"
            ],
            "text/html": [
              "\n",
              "    <div>\n",
              "      \n",
              "      <progress value='252' max='252' style='width:300px; height:20px; vertical-align: middle;'></progress>\n",
              "      [252/252 00:03]\n",
              "    </div>\n",
              "    "
            ]
          },
          "metadata": {}
        },
        {
          "output_type": "stream",
          "name": "stdout",
          "text": [
            "F1-micro: 0.7775\n",
            "F1-macro: 0.7653\n",
            "F1-weighted: 0.7752\n"
          ]
        }
      ],
      "execution_count": null,
      "source": [
        "test_results_6 = trainer_6.evaluate(test_dataset)\n",
        "print(f\"F1-micro: {test_results_6['eval_f1_micro']:.4f}\")\n",
        "print(f\"F1-macro: {test_results_6['eval_f1_macro']:.4f}\")\n",
        "print(f\"F1-weighted: {test_results_6['eval_f1_weighted']:.4f}\")"
      ],
      "id": "72c6ad89eee9f46c"
    },
    {
      "metadata": {
        "colab": {
          "base_uri": "https://localhost:8080/"
        },
        "id": "d9d06b8aa0c445a9",
        "outputId": "02eda01b-7174-42a6-ef8f-53e7e8d18e02"
      },
      "cell_type": "code",
      "outputs": [
        {
          "output_type": "stream",
          "name": "stdout",
          "text": [
            "\n",
            "📊 Échantillon F1-Score par émotion:\n",
            "     anger: 0.7934\n",
            "   disgust: 0.6501\n",
            "      fear: 0.7669\n",
            "       joy: 0.8273\n",
            "   sadness: 0.7872\n",
            "  surprise: 0.7671\n"
          ]
        }
      ],
      "execution_count": null,
      "source": [
        "print(f\"\\n📊 Échantillon F1-Score par émotion:\")\n",
        "for emotion in emotion_cols_ekman:\n",
        "    f1 = test_results_6.get(f'eval_f1_{emotion}', 0)\n",
        "    print(f\"{emotion:>10}: {f1:.4f}\")"
      ],
      "id": "d9d06b8aa0c445a9"
    },
    {
      "metadata": {
        "id": "e96816968b842e49"
      },
      "cell_type": "markdown",
      "source": [
        "### Résultats sur les 2 émotions"
      ],
      "id": "e96816968b842e49"
    },
    {
      "metadata": {
        "id": "90e4d30f69dcd99d"
      },
      "cell_type": "code",
      "outputs": [],
      "execution_count": null,
      "source": [
        "texts = df_2_emotions['text'].tolist()\n",
        "y_emotions = df_2_emotions[emotion_cols_binary].values"
      ],
      "id": "90e4d30f69dcd99d"
    },
    {
      "metadata": {
        "colab": {
          "base_uri": "https://localhost:8080/"
        },
        "id": "eed348895b0779e2",
        "outputId": "bf8deb41-c205-4f05-f49d-f4ec6d718f33"
      },
      "cell_type": "code",
      "outputs": [
        {
          "output_type": "stream",
          "name": "stderr",
          "text": [
            "Some weights of BertForSequenceClassification were not initialized from the model checkpoint at bert-base-uncased and are newly initialized: ['classifier.bias', 'classifier.weight']\n",
            "You should probably TRAIN this model on a down-stream task to be able to use it for predictions and inference.\n"
          ]
        },
        {
          "output_type": "execute_result",
          "data": {
            "text/plain": [
              "BertForSequenceClassification(\n",
              "  (bert): BertModel(\n",
              "    (embeddings): BertEmbeddings(\n",
              "      (word_embeddings): Embedding(30522, 768, padding_idx=0)\n",
              "      (position_embeddings): Embedding(512, 768)\n",
              "      (token_type_embeddings): Embedding(2, 768)\n",
              "      (LayerNorm): LayerNorm((768,), eps=1e-12, elementwise_affine=True)\n",
              "      (dropout): Dropout(p=0.1, inplace=False)\n",
              "    )\n",
              "    (encoder): BertEncoder(\n",
              "      (layer): ModuleList(\n",
              "        (0-11): 12 x BertLayer(\n",
              "          (attention): BertAttention(\n",
              "            (self): BertSdpaSelfAttention(\n",
              "              (query): Linear(in_features=768, out_features=768, bias=True)\n",
              "              (key): Linear(in_features=768, out_features=768, bias=True)\n",
              "              (value): Linear(in_features=768, out_features=768, bias=True)\n",
              "              (dropout): Dropout(p=0.1, inplace=False)\n",
              "            )\n",
              "            (output): BertSelfOutput(\n",
              "              (dense): Linear(in_features=768, out_features=768, bias=True)\n",
              "              (LayerNorm): LayerNorm((768,), eps=1e-12, elementwise_affine=True)\n",
              "              (dropout): Dropout(p=0.1, inplace=False)\n",
              "            )\n",
              "          )\n",
              "          (intermediate): BertIntermediate(\n",
              "            (dense): Linear(in_features=768, out_features=3072, bias=True)\n",
              "            (intermediate_act_fn): GELUActivation()\n",
              "          )\n",
              "          (output): BertOutput(\n",
              "            (dense): Linear(in_features=3072, out_features=768, bias=True)\n",
              "            (LayerNorm): LayerNorm((768,), eps=1e-12, elementwise_affine=True)\n",
              "            (dropout): Dropout(p=0.1, inplace=False)\n",
              "          )\n",
              "        )\n",
              "      )\n",
              "    )\n",
              "    (pooler): BertPooler(\n",
              "      (dense): Linear(in_features=768, out_features=768, bias=True)\n",
              "      (activation): Tanh()\n",
              "    )\n",
              "  )\n",
              "  (dropout): Dropout(p=0.1, inplace=False)\n",
              "  (classifier): Linear(in_features=768, out_features=2, bias=True)\n",
              ")"
            ]
          },
          "metadata": {},
          "execution_count": 60
        }
      ],
      "execution_count": null,
      "source": [
        "model_2 = BertForSequenceClassification.from_pretrained(\n",
        "    MODEL_NAME,\n",
        "    num_labels=2,\n",
        "    problem_type=\"multi_label_classification\"\n",
        ")\n",
        "model_2.to(device)"
      ],
      "id": "eed348895b0779e2"
    },
    {
      "metadata": {
        "id": "85cc35e363ec3483"
      },
      "cell_type": "code",
      "outputs": [],
      "execution_count": null,
      "source": [
        "X_train, X_test, y_train, y_test = train_test_split(\n",
        "    texts, y_emotions,\n",
        "    test_size=0.2,\n",
        "    random_state=42\n",
        ")\n",
        "\n",
        "X_train, X_val, y_train, y_val = train_test_split(\n",
        "    X_train, y_train,\n",
        "    test_size=0.2,\n",
        "    random_state=42\n",
        ")"
      ],
      "id": "85cc35e363ec3483"
    },
    {
      "metadata": {
        "colab": {
          "base_uri": "https://localhost:8080/"
        },
        "id": "681906d6b752d357",
        "outputId": "9e3e8582-8307-4e83-ce49-73d56130aa5f"
      },
      "cell_type": "code",
      "outputs": [
        {
          "output_type": "stream",
          "name": "stdout",
          "text": [
            "Train: 29632\n",
            "Validation: 7409\n",
            "Test: 9261\n"
          ]
        }
      ],
      "execution_count": null,
      "source": [
        "print(f\"Train: {len(X_train)}\")\n",
        "print(f\"Validation: {len(X_val)}\")\n",
        "print(f\"Test: {len(X_test)}\")"
      ],
      "id": "681906d6b752d357"
    },
    {
      "metadata": {
        "colab": {
          "base_uri": "https://localhost:8080/",
          "height": 532
        },
        "id": "fc71b04c7a3c1af9",
        "outputId": "1cd82ad6-92d4-4bbf-a88f-ec2ca903058b"
      },
      "cell_type": "code",
      "outputs": [
        {
          "output_type": "display_data",
          "data": {
            "text/plain": [
              "<Figure size 1600x600 with 2 Axes>"
            ],
            "image/png": "[encoded data removed]"
          },
          "metadata": {}
        }
      ],
      "execution_count": null,
      "source": [
        "plot_emotions_distribution(y_train, \"Train Emotions Distribution (2 emotions)\", emotion_cols_binary)"
      ],
      "id": "fc71b04c7a3c1af9"
    },
    {
      "metadata": {
        "id": "21fbccd02cbcceb8"
      },
      "cell_type": "code",
      "outputs": [],
      "execution_count": null,
      "source": [
        "train_encodings = tokenizer(X_train, truncation=True, padding='max_length', max_length=128, return_tensors='pt')\n",
        "val_encodings = tokenizer(X_val, truncation=True, padding='max_length', max_length=128, return_tensors='pt')"
      ],
      "id": "21fbccd02cbcceb8"
    },
    {
      "metadata": {
        "id": "3d0fddf05766c7b"
      },
      "cell_type": "code",
      "outputs": [],
      "execution_count": null,
      "source": [
        "train_dataset = Dataset.from_dict({\n",
        "    'input_ids': train_encodings['input_ids'],\n",
        "    'attention_mask': train_encodings['attention_mask'],\n",
        "    'labels': torch.tensor(y_train, dtype=torch.float)\n",
        "})\n",
        "\n",
        "val_dataset = Dataset.from_dict({\n",
        "    'input_ids': val_encodings['input_ids'],\n",
        "    'attention_mask': val_encodings['attention_mask'],\n",
        "    'labels': torch.tensor(y_val, dtype=torch.float)\n",
        "})"
      ],
      "id": "3d0fddf05766c7b"
    },
    {
      "metadata": {
        "id": "d3cb40350968d940"
      },
      "cell_type": "code",
      "outputs": [],
      "execution_count": null,
      "source": [
        "training_args = TrainingArguments(\n",
        "    output_dir='./results',\n",
        "    run_name='bert-emotions',\n",
        "    num_train_epochs=NUM_EPOCHS,\n",
        "    per_device_train_batch_size=BATCH_SIZE,\n",
        "    per_device_eval_batch_size=BATCH_SIZE,\n",
        "    learning_rate=LEARNING_RATE,\n",
        "    weight_decay=0.01,\n",
        "\n",
        "    fp16=True,\n",
        "    dataloader_num_workers=2,\n",
        "    dataloader_pin_memory=True,\n",
        "\n",
        "    logging_steps=200,\n",
        "    eval_strategy=\"epoch\",\n",
        "    save_strategy=\"epoch\",\n",
        "    save_total_limit=2,\n",
        "\n",
        "    load_best_model_at_end=True,\n",
        "    report_to=[]\n",
        ")"
      ],
      "id": "d3cb40350968d940"
    },
    {
      "metadata": {
        "id": "9120959bca0bcc7"
      },
      "cell_type": "code",
      "outputs": [],
      "execution_count": null,
      "source": [
        "trainer_2 = Trainer(\n",
        "    model=model_2,\n",
        "    args=training_args,\n",
        "    train_dataset=train_dataset,\n",
        "    eval_dataset=val_dataset,\n",
        "    compute_metrics=lambda eval_pred: compute_metrics_detailed(eval_pred, emotion_cols_binary)\n",
        ")"
      ],
      "id": "9120959bca0bcc7"
    },
    {
      "metadata": {
        "colab": {
          "base_uri": "https://localhost:8080/",
          "height": 243
        },
        "id": "a1c3990882d15e58",
        "outputId": "1205b571-b01f-4226-8f9a-9bf5ff8eb49c"
      },
      "cell_type": "code",
      "outputs": [
        {
          "output_type": "stream",
          "name": "stdout",
          "text": [
            "🚀 Début du fine-tuning...\n"
          ]
        },
        {
          "output_type": "display_data",
          "data": {
            "text/plain": [
              "<IPython.core.display.HTML object>"
            ],
            "text/html": [
              "\n",
              "    <div>\n",
              "      \n",
              "      <progress value='11112' max='11112' style='width:300px; height:20px; vertical-align: middle;'></progress>\n",
              "      [11112/11112 09:47, Epoch 3/3]\n",
              "    </div>\n",
              "    <table border=\"1\" class=\"dataframe\">\n",
              "  <thead>\n",
              " <tr style=\"text-align: left;\">\n",
              "      <th>Epoch</th>\n",
              "      <th>Training Loss</th>\n",
              "      <th>Validation Loss</th>\n",
              "      <th>F1 Micro</th>\n",
              "      <th>F1 Macro</th>\n",
              "      <th>F1 Weighted</th>\n",
              "      <th>F1 Samples</th>\n",
              "      <th>Precision Micro</th>\n",
              "      <th>Precision Macro</th>\n",
              "      <th>Recall Micro</th>\n",
              "      <th>Recall Macro</th>\n",
              "      <th>Exact Match</th>\n",
              "      <th>F1 Positive</th>\n",
              "      <th>Precision Positive</th>\n",
              "      <th>Recall Positive</th>\n",
              "      <th>F1 Negative</th>\n",
              "      <th>Precision Negative</th>\n",
              "      <th>Recall Negative</th>\n",
              "    </tr>\n",
              "  </thead>\n",
              "  <tbody>\n",
              "    <tr>\n",
              "      <td>1</td>\n",
              "      <td>0.365600</td>\n",
              "      <td>0.369608</td>\n",
              "      <td>0.837111</td>\n",
              "      <td>0.824490</td>\n",
              "      <td>0.835650</td>\n",
              "      <td>0.779412</td>\n",
              "      <td>0.825146</td>\n",
              "      <td>0.822196</td>\n",
              "      <td>0.849429</td>\n",
              "      <td>0.829335</td>\n",
              "      <td>0.770279</td>\n",
              "      <td>0.865219</td>\n",
              "      <td>0.830753</td>\n",
              "      <td>0.902669</td>\n",
              "      <td>0.783762</td>\n",
              "      <td>0.813638</td>\n",
              "      <td>0.756002</td>\n",
              "    </tr>\n",
              "    <tr>\n",
              "      <td>2</td>\n",
              "      <td>0.273000</td>\n",
              "      <td>0.425925</td>\n",
              "      <td>0.837345</td>\n",
              "      <td>0.824747</td>\n",
              "      <td>0.836293</td>\n",
              "      <td>0.773564</td>\n",
              "      <td>0.834848</td>\n",
              "      <td>0.828503</td>\n",
              "      <td>0.839857</td>\n",
              "      <td>0.822245</td>\n",
              "      <td>0.772439</td>\n",
              "      <td>0.866886</td>\n",
              "      <td>0.848101</td>\n",
              "      <td>0.886522</td>\n",
              "      <td>0.782609</td>\n",
              "      <td>0.808904</td>\n",
              "      <td>0.757969</td>\n",
              "    </tr>\n",
              "    <tr>\n",
              "      <td>3</td>\n",
              "      <td>0.187700</td>\n",
              "      <td>0.490445</td>\n",
              "      <td>0.834700</td>\n",
              "      <td>0.825238</td>\n",
              "      <td>0.834751</td>\n",
              "      <td>0.764116</td>\n",
              "      <td>0.832978</td>\n",
              "      <td>0.823233</td>\n",
              "      <td>0.836429</td>\n",
              "      <td>0.827257</td>\n",
              "      <td>0.763261</td>\n",
              "      <td>0.859960</td>\n",
              "      <td>0.859190</td>\n",
              "      <td>0.860731</td>\n",
              "      <td>0.790515</td>\n",
              "      <td>0.787276</td>\n",
              "      <td>0.793782</td>\n",
              "    </tr>\n",
              "  </tbody>\n",
              "</table><p>"
            ]
          },
          "metadata": {}
        },
        {
          "output_type": "stream",
          "name": "stdout",
          "text": [
            "✅ Fine-tuning terminé!\n"
          ]
        }
      ],
      "execution_count": null,
      "source": [
        "# FINE-TUNING\n",
        "print(\"🚀 Début du fine-tuning...\")\n",
        "trainer_2.train()\n",
        "print(\"✅ Fine-tuning terminé!\")"
      ],
      "id": "a1c3990882d15e58"
    },
    {
      "metadata": {
        "colab": {
          "base_uri": "https://localhost:8080/",
          "height": 88
        },
        "id": "7e93d5053fc37050",
        "outputId": "1b5a1e84-4553-4d22-c269-940aa840f9b5"
      },
      "cell_type": "code",
      "outputs": [
        {
          "output_type": "stream",
          "name": "stdout",
          "text": [
            "💾 Sauvegarde du modèle...\n",
            "📦 Création de l'archive...\n",
            "⬇️ Téléchargement en cours...\n"
          ]
        },
        {
          "output_type": "display_data",
          "data": {
            "text/plain": [
              "<IPython.core.display.Javascript object>"
            ],
            "application/javascript": [
              "\n",
              "    async function download(id, filename, size) {\n",
              "      if (!google.colab.kernel.accessAllowed) {\n",
              "        return;\n",
              "      }\n",
              "      const div = document.createElement('div');\n",
              "      const label = document.createElement('label');\n",
              "      label.textContent = `Downloading \"${filename}\": `;\n",
              "      div.appendChild(label);\n",
              "      const progress = document.createElement('progress');\n",
              "      progress.max = size;\n",
              "      div.appendChild(progress);\n",
              "      document.body.appendChild(div);\n",
              "\n",
              "      const buffers = [];\n",
              "      let downloaded = 0;\n",
              "\n",
              "      const channel = await google.colab.kernel.comms.open(id);\n",
              "      // Send a message to notify the kernel that we're ready.\n",
              "      channel.send({})\n",
              "\n",
              "      for await (const message of channel.messages) {\n",
              "        // Send a message to notify the kernel that we're ready.\n",
              "        channel.send({})\n",
              "        if (message.buffers) {\n",
              "          for (const buffer of message.buffers) {\n",
              "            buffers.push(buffer);\n",
              "            downloaded += buffer.byteLength;\n",
              "            progress.value = downloaded;\n",
              "          }\n",
              "        }\n",
              "      }\n",
              "      const blob = new Blob(buffers, {type: 'application/binary'});\n",
              "      const a = document.createElement('a');\n",
              "      a.href = window.URL.createObjectURL(blob);\n",
              "      a.download = filename;\n",
              "      div.appendChild(a);\n",
              "      a.click();\n",
              "      div.remove();\n",
              "    }\n",
              "  "
            ]
          },
          "metadata": {}
        },
        {
          "output_type": "display_data",
          "data": {
            "text/plain": [
              "<IPython.core.display.Javascript object>"
            ],
            "application/javascript": [
              "download(\"download_94ea0cb9-2fac-4aa7-827c-a8dc0dbbaea8\", \"bert_emotions_2.zip\", 405695513)"
            ]
          },
          "metadata": {}
        }
      ],
      "execution_count": null,
      "source": [
        "save_and_download_model(trainer_2, tokenizer, \"bert_emotions_2\")"
      ],
      "id": "7e93d5053fc37050"
    },
    {
      "metadata": {
        "id": "fb13bfdbbe0c58a0"
      },
      "cell_type": "code",
      "outputs": [],
      "execution_count": null,
      "source": [
        "test_encodings = tokenizer(X_test, truncation=True, padding='max_length', max_length=128, return_tensors='pt')\n",
        "test_dataset = Dataset.from_dict({\n",
        "    'input_ids': test_encodings['input_ids'],\n",
        "    'attention_mask': test_encodings['attention_mask'],\n",
        "    'labels': torch.tensor(y_test, dtype=torch.float)\n",
        "})"
      ],
      "id": "fb13bfdbbe0c58a0"
    },
    {
      "metadata": {
        "colab": {
          "base_uri": "https://localhost:8080/",
          "height": 91
        },
        "id": "3caa759756b3648a",
        "outputId": "03e5ff2d-48a7-49f6-ce15-1c0b0f758658"
      },
      "cell_type": "code",
      "outputs": [
        {
          "output_type": "display_data",
          "data": {
            "text/plain": [
              "<IPython.core.display.HTML object>"
            ],
            "text/html": [
              "\n",
              "    <div>\n",
              "      \n",
              "      <progress value='1158' max='1158' style='width:300px; height:20px; vertical-align: middle;'></progress>\n",
              "      [1158/1158 00:16]\n",
              "    </div>\n",
              "    "
            ]
          },
          "metadata": {}
        },
        {
          "output_type": "stream",
          "name": "stdout",
          "text": [
            "F1-micro: 0.8327\n",
            "F1-macro: 0.8179\n",
            "F1-weighted: 0.8307\n"
          ]
        }
      ],
      "execution_count": null,
      "source": [
        "test_results_2 = trainer_2.evaluate(test_dataset)\n",
        "print(f\"F1-micro: {test_results_2['eval_f1_micro']:.4f}\")\n",
        "print(f\"F1-macro: {test_results_2['eval_f1_macro']:.4f}\")\n",
        "print(f\"F1-weighted: {test_results_2['eval_f1_weighted']:.4f}\")"
      ],
      "id": "3caa759756b3648a"
    },
    {
      "metadata": {
        "colab": {
          "base_uri": "https://localhost:8080/"
        },
        "id": "3d63945bfb29936b",
        "outputId": "b6f99477-843a-4a31-bde7-2c60af6d35ca"
      },
      "cell_type": "code",
      "outputs": [
        {
          "output_type": "stream",
          "name": "stdout",
          "text": [
            "\n",
            "📊 Échantillon F1-Score par émotion:\n",
            "  positive: 0.8633\n",
            "  negative: 0.7725\n"
          ]
        }
      ],
      "execution_count": null,
      "source": [
        "print(f\"\\n📊 Échantillon F1-Score par émotion:\")\n",
        "for emotion in emotion_cols_binary:\n",
        "    f1 = test_results_2.get(f'eval_f1_{emotion}', 0)\n",
        "    print(f\"{emotion:>10}: {f1:.4f}\")"
      ],
      "id": "3d63945bfb29936b"
    },
    {
      "cell_type": "markdown",
      "source": [
        "## Comparaison"
      ],
      "metadata": {
        "id": "vUrgfqUbU1kC"
      },
      "id": "vUrgfqUbU1kC"
    },
    {
      "cell_type": "code",
      "source": [
        "def compare_models(results_27, results_6, results_2):\n",
        "\n",
        "    metrics = ['eval_f1_micro', 'eval_f1_macro', 'eval_f1_weighted', 'eval_exact_match']\n",
        "    metric_names = ['F1 Micro', 'F1 Macro', 'F1 Weighted', 'Exact Match']\n",
        "\n",
        "    scores_27 = [results_27.get(m, 0) for m in metrics]\n",
        "    scores_6 = [results_6.get(m, 0) for m in metrics]\n",
        "    scores_2 = [results_2.get(m, 0) for m in metrics]\n",
        "\n",
        "    df = pd.DataFrame({\n",
        "        '27 émotions': scores_27,\n",
        "        '6 émotions': scores_6,\n",
        "        '2 émotions': scores_2\n",
        "    }, index=metric_names)\n",
        "\n",
        "    print(\"Résultats de performance:\")\n",
        "    print(df.round(4))\n",
        "\n",
        "    f1_macro_scores = [scores_27[1], scores_6[1], scores_2[1]]\n",
        "    best_model = ['27 émotions', '6 émotions', '2 émotions'][np.argmax(f1_macro_scores)]\n",
        "    print(f\"\\nMeilleur modèle (F1-macro): {best_model}\")\n",
        "\n",
        "    fig, (ax1, ax2) = plt.subplots(1, 2, figsize=(15, 6))\n",
        "\n",
        "    x = np.arange(len(metric_names))\n",
        "    width = 0.25\n",
        "\n",
        "    ax1.bar(x - width, scores_27, width, label='27 émotions', alpha=0.8)\n",
        "    ax1.bar(x, scores_6, width, label='6 émotions', alpha=0.8)\n",
        "    ax1.bar(x + width, scores_2, width, label='2 émotions', alpha=0.8)\n",
        "\n",
        "    ax1.set_xlabel('Métriques')\n",
        "    ax1.set_ylabel('Score')\n",
        "    ax1.set_title('Comparaison des performances')\n",
        "    ax1.set_xticks(x)\n",
        "    ax1.set_xticklabels(metric_names, rotation=45)\n",
        "    ax1.legend()\n",
        "    ax1.grid(True, alpha=0.3)\n",
        "\n",
        "    # Graphique 2: Performance vs Complexité\n",
        "    complexities = [27, 6, 2]\n",
        "    f1_scores = f1_macro_scores\n",
        "    model_names = ['27 émot.', '6 émot.', '2 émot.']\n",
        "\n",
        "    ax2.scatter(complexities, f1_scores, s=150, alpha=0.7, c=['red', 'blue', 'green'])\n",
        "    for i, name in enumerate(model_names):\n",
        "        ax2.annotate(name, (complexities[i], f1_scores[i]),\n",
        "                    xytext=(5, 5), textcoords='offset points')\n",
        "\n",
        "    ax2.set_xlabel('Nombre d\\'émotions')\n",
        "    ax2.set_ylabel('F1 Macro Score')\n",
        "    ax2.set_title('Performance vs Complexité')\n",
        "    ax2.grid(True, alpha=0.3)\n",
        "\n",
        "    plt.tight_layout()\n",
        "    plt.show()\n",
        "\n",
        "    return df"
      ],
      "metadata": {
        "id": "ZJtvI39kU3t2"
      },
      "id": "ZJtvI39kU3t2",
      "execution_count": null,
      "outputs": []
    },
    {
      "cell_type": "code",
      "source": [
        "df_comparison = compare_models(test_results_27, test_results_6, test_results_2)"
      ],
      "metadata": {
        "colab": {
          "base_uri": "https://localhost:8080/",
          "height": 712
        },
        "id": "Hw6YAYqkU5dx",
        "outputId": "ec931aa4-82df-4a18-ae06-04ca872d977f"
      },
      "id": "Hw6YAYqkU5dx",
      "execution_count": null,
      "outputs": [
        {
          "output_type": "stream",
          "name": "stdout",
          "text": [
            "Résultats de performance:\n",
            "             27 émotions  6 émotions  2 émotions\n",
            "F1 Micro          0.5533      0.7775      0.8327\n",
            "F1 Macro          0.4314      0.7653      0.8179\n",
            "F1 Weighted       0.5223      0.7752      0.8307\n",
            "Exact Match       0.4159      0.7289      0.7698\n",
            "\n",
            "Meilleur modèle (F1-macro): 2 émotions\n"
          ]
        },
        {
          "output_type": "display_data",
          "data": {
            "text/plain": [
              "<Figure size 1500x600 with 2 Axes>"
            ],
            "image/png": "[encoded data removed]"
          },
          "metadata": {}
        }
      ]
    }
  ],
  "metadata": {
    "kernelspec": {
      "display_name": "Python 3",
      "name": "python3"
    },
    "language_info": {
      "codemirror_mode": {
        "name": "ipython",
        "version": 2
      },
      "file_extension": ".py",
      "mimetype": "text/x-python",
      "name": "python",
      "nbconvert_exporter": "python",
      "pygments_lexer": "ipython2",
      "version": "2.7.6"
    },
    "colab": {
      "provenance": [],
      "gpuType": "A100"
    },
    "accelerator": "GPU"
  },
  "nbformat": 4,
  "nbformat_minor": 5
}